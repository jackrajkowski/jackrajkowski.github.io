{
  "cells": [
    {
      "cell_type": "markdown",
      "metadata": {
        "id": "Gc8x8QimJY_H"
      },
      "source": [
        "# FoodHub Data Analysis"
      ]
    },
    {
      "cell_type": "markdown",
      "metadata": {
        "id": "NqikjkWwJY_L"
      },
      "source": [
        "### Context\n",
        "\n",
        "The number of restaurants in New York is increasing day by day. Lots of students and busy professionals rely on those restaurants due to their hectic lifestyles. Online food delivery service is a great option for them. It provides them with good food from their favorite restaurants. A food aggregator company FoodHub offers access to multiple restaurants through a single smartphone app.\n",
        "\n",
        "The app allows the restaurants to receive a direct online order from a customer. The app assigns a delivery person from the company to pick up the order after it is confirmed by the restaurant. The delivery person then uses the map to reach the restaurant and waits for the food package. Once the food package is handed over to the delivery person, he/she confirms the pick-up in the app and travels to the customer's location to deliver the food. The delivery person confirms the drop-off in the app after delivering the food package to the customer. The customer can rate the order in the app. The food aggregator earns money by collecting a fixed margin of the delivery order from the restaurants.\n",
        "\n",
        "### Objective\n",
        "\n",
        "The food aggregator company has stored the data of the different orders made by the registered customers in their online portal. They want to analyze the data to get a fair idea about the demand of different restaurants which will help them in enhancing their customer experience. As a Data Scientist in this company, the Data Science team has shared some of the key questions that need to be answered. I will perform the data analysis to find answers to these questions that will help the company to improve the business.\n",
        "\n",
        "### Data Description\n",
        "\n",
        "The data contains the different data related to a food order. The detailed data dictionary is given below.\n",
        "\n",
        "### Data Dictionary\n",
        "\n",
        "* order_id: Unique ID of the order\n",
        "* customer_id: ID of the customer who ordered the food\n",
        "* restaurant_name: Name of the restaurant\n",
        "* cuisine_type: Cuisine ordered by the customer\n",
        "* cost: Cost of the order\n",
        "* day_of_the_week: Indicates whether the order is placed on a weekday or weekend (The weekday is from Monday to Friday and the weekend is Saturday and Sunday)\n",
        "* rating: Rating given by the customer out of 5\n",
        "* food_preparation_time: Time (in minutes) taken by the restaurant to prepare the food. This is calculated by taking the difference between the timestamps of the restaurant's order confirmation and the delivery person's pick-up confirmation.\n",
        "* delivery_time: Time (in minutes) taken by the delivery person to deliver the food package. This is calculated by taking the difference between the timestamps of the delivery person's pick-up confirmation and drop-off information"
      ]
    },
    {
      "cell_type": "markdown",
      "metadata": {
        "id": "cEtNUxNAJY_M"
      },
      "source": [
        "### Let us start by importing the required libraries"
      ]
    },
    {
      "cell_type": "code",
      "execution_count": null,
      "metadata": {
        "id": "u6PlpJAPJY_N"
      },
      "outputs": [],
      "source": [
        "# import libraries for data manipulation\n",
        "import numpy as np\n",
        "import pandas as pd\n",
        "\n",
        "# import libraries for data visualization\n",
        "import matplotlib.pyplot as plt\n",
        "import seaborn as sns"
      ]
    },
    {
      "cell_type": "markdown",
      "metadata": {
        "id": "AdracY0HJY_O"
      },
      "source": [
        "### Understanding the structure of the data"
      ]
    },
    {
      "cell_type": "code",
      "execution_count": null,
      "metadata": {
        "id": "WBh2ZGB9kFhU",
        "colab": {
          "base_uri": "https://localhost:8080/"
        },
        "outputId": "5a4f3cce-d7f0-486c-fc60-35acb750a739"
      },
      "outputs": [
        {
          "output_type": "stream",
          "name": "stdout",
          "text": [
            "Drive already mounted at /content/drive; to attempt to forcibly remount, call drive.mount(\"/content/drive\", force_remount=True).\n"
          ]
        }
      ],
      "source": [
        "# uncomment and run the following lines for Google Colab\n",
        "from google.colab import drive\n",
        "drive.mount('/content/drive')"
      ]
    },
    {
      "cell_type": "code",
      "execution_count": null,
      "metadata": {
        "id": "GF01IZDbJY_O",
        "scrolled": true,
        "colab": {
          "base_uri": "https://localhost:8080/",
          "height": 275
        },
        "outputId": "dd404dd7-bccf-4c92-ac46-a22bb77a5ce8"
      },
      "outputs": [
        {
          "output_type": "execute_result",
          "data": {
            "text/plain": [
              "   order_id  customer_id            restaurant_name cuisine_type  \\\n",
              "0   1477147       337525                    Hangawi       Korean   \n",
              "1   1477685       358141  Blue Ribbon Sushi Izakaya     Japanese   \n",
              "2   1477070        66393                Cafe Habana      Mexican   \n",
              "3   1477334       106968  Blue Ribbon Fried Chicken     American   \n",
              "4   1478249        76942           Dirty Bird to Go     American   \n",
              "\n",
              "   cost_of_the_order day_of_the_week     rating  food_preparation_time  \\\n",
              "0              30.75         Weekend  Not given                     25   \n",
              "1              12.08         Weekend  Not given                     25   \n",
              "2              12.23         Weekday          5                     23   \n",
              "3              29.20         Weekend          3                     25   \n",
              "4              11.59         Weekday          4                     25   \n",
              "\n",
              "   delivery_time  \n",
              "0             20  \n",
              "1             23  \n",
              "2             28  \n",
              "3             15  \n",
              "4             24  "
            ],
            "text/html": [
              "\n",
              "  <div id=\"df-32c22394-fe3e-4a16-b2d2-c35f8c15b34f\" class=\"colab-df-container\">\n",
              "    <div>\n",
              "<style scoped>\n",
              "    .dataframe tbody tr th:only-of-type {\n",
              "        vertical-align: middle;\n",
              "    }\n",
              "\n",
              "    .dataframe tbody tr th {\n",
              "        vertical-align: top;\n",
              "    }\n",
              "\n",
              "    .dataframe thead th {\n",
              "        text-align: right;\n",
              "    }\n",
              "</style>\n",
              "<table border=\"1\" class=\"dataframe\">\n",
              "  <thead>\n",
              "    <tr style=\"text-align: right;\">\n",
              "      <th></th>\n",
              "      <th>order_id</th>\n",
              "      <th>customer_id</th>\n",
              "      <th>restaurant_name</th>\n",
              "      <th>cuisine_type</th>\n",
              "      <th>cost_of_the_order</th>\n",
              "      <th>day_of_the_week</th>\n",
              "      <th>rating</th>\n",
              "      <th>food_preparation_time</th>\n",
              "      <th>delivery_time</th>\n",
              "    </tr>\n",
              "  </thead>\n",
              "  <tbody>\n",
              "    <tr>\n",
              "      <th>0</th>\n",
              "      <td>1477147</td>\n",
              "      <td>337525</td>\n",
              "      <td>Hangawi</td>\n",
              "      <td>Korean</td>\n",
              "      <td>30.75</td>\n",
              "      <td>Weekend</td>\n",
              "      <td>Not given</td>\n",
              "      <td>25</td>\n",
              "      <td>20</td>\n",
              "    </tr>\n",
              "    <tr>\n",
              "      <th>1</th>\n",
              "      <td>1477685</td>\n",
              "      <td>358141</td>\n",
              "      <td>Blue Ribbon Sushi Izakaya</td>\n",
              "      <td>Japanese</td>\n",
              "      <td>12.08</td>\n",
              "      <td>Weekend</td>\n",
              "      <td>Not given</td>\n",
              "      <td>25</td>\n",
              "      <td>23</td>\n",
              "    </tr>\n",
              "    <tr>\n",
              "      <th>2</th>\n",
              "      <td>1477070</td>\n",
              "      <td>66393</td>\n",
              "      <td>Cafe Habana</td>\n",
              "      <td>Mexican</td>\n",
              "      <td>12.23</td>\n",
              "      <td>Weekday</td>\n",
              "      <td>5</td>\n",
              "      <td>23</td>\n",
              "      <td>28</td>\n",
              "    </tr>\n",
              "    <tr>\n",
              "      <th>3</th>\n",
              "      <td>1477334</td>\n",
              "      <td>106968</td>\n",
              "      <td>Blue Ribbon Fried Chicken</td>\n",
              "      <td>American</td>\n",
              "      <td>29.20</td>\n",
              "      <td>Weekend</td>\n",
              "      <td>3</td>\n",
              "      <td>25</td>\n",
              "      <td>15</td>\n",
              "    </tr>\n",
              "    <tr>\n",
              "      <th>4</th>\n",
              "      <td>1478249</td>\n",
              "      <td>76942</td>\n",
              "      <td>Dirty Bird to Go</td>\n",
              "      <td>American</td>\n",
              "      <td>11.59</td>\n",
              "      <td>Weekday</td>\n",
              "      <td>4</td>\n",
              "      <td>25</td>\n",
              "      <td>24</td>\n",
              "    </tr>\n",
              "  </tbody>\n",
              "</table>\n",
              "</div>\n",
              "    <div class=\"colab-df-buttons\">\n",
              "\n",
              "  <div class=\"colab-df-container\">\n",
              "    <button class=\"colab-df-convert\" onclick=\"convertToInteractive('df-32c22394-fe3e-4a16-b2d2-c35f8c15b34f')\"\n",
              "            title=\"Convert this dataframe to an interactive table.\"\n",
              "            style=\"display:none;\">\n",
              "\n",
              "  <svg xmlns=\"http://www.w3.org/2000/svg\" height=\"24px\" viewBox=\"0 -960 960 960\">\n",
              "    <path d=\"M120-120v-720h720v720H120Zm60-500h600v-160H180v160Zm220 220h160v-160H400v160Zm0 220h160v-160H400v160ZM180-400h160v-160H180v160Zm440 0h160v-160H620v160ZM180-180h160v-160H180v160Zm440 0h160v-160H620v160Z\"/>\n",
              "  </svg>\n",
              "    </button>\n",
              "\n",
              "  <style>\n",
              "    .colab-df-container {\n",
              "      display:flex;\n",
              "      gap: 12px;\n",
              "    }\n",
              "\n",
              "    .colab-df-convert {\n",
              "      background-color: #E8F0FE;\n",
              "      border: none;\n",
              "      border-radius: 50%;\n",
              "      cursor: pointer;\n",
              "      display: none;\n",
              "      fill: #1967D2;\n",
              "      height: 32px;\n",
              "      padding: 0 0 0 0;\n",
              "      width: 32px;\n",
              "    }\n",
              "\n",
              "    .colab-df-convert:hover {\n",
              "      background-color: #E2EBFA;\n",
              "      box-shadow: 0px 1px 2px rgba(60, 64, 67, 0.3), 0px 1px 3px 1px rgba(60, 64, 67, 0.15);\n",
              "      fill: #174EA6;\n",
              "    }\n",
              "\n",
              "    .colab-df-buttons div {\n",
              "      margin-bottom: 4px;\n",
              "    }\n",
              "\n",
              "    [theme=dark] .colab-df-convert {\n",
              "      background-color: #3B4455;\n",
              "      fill: #D2E3FC;\n",
              "    }\n",
              "\n",
              "    [theme=dark] .colab-df-convert:hover {\n",
              "      background-color: #434B5C;\n",
              "      box-shadow: 0px 1px 3px 1px rgba(0, 0, 0, 0.15);\n",
              "      filter: drop-shadow(0px 1px 2px rgba(0, 0, 0, 0.3));\n",
              "      fill: #FFFFFF;\n",
              "    }\n",
              "  </style>\n",
              "\n",
              "    <script>\n",
              "      const buttonEl =\n",
              "        document.querySelector('#df-32c22394-fe3e-4a16-b2d2-c35f8c15b34f button.colab-df-convert');\n",
              "      buttonEl.style.display =\n",
              "        google.colab.kernel.accessAllowed ? 'block' : 'none';\n",
              "\n",
              "      async function convertToInteractive(key) {\n",
              "        const element = document.querySelector('#df-32c22394-fe3e-4a16-b2d2-c35f8c15b34f');\n",
              "        const dataTable =\n",
              "          await google.colab.kernel.invokeFunction('convertToInteractive',\n",
              "                                                    [key], {});\n",
              "        if (!dataTable) return;\n",
              "\n",
              "        const docLinkHtml = 'Like what you see? Visit the ' +\n",
              "          '<a target=\"_blank\" href=https://colab.research.google.com/notebooks/data_table.ipynb>data table notebook</a>'\n",
              "          + ' to learn more about interactive tables.';\n",
              "        element.innerHTML = '';\n",
              "        dataTable['output_type'] = 'display_data';\n",
              "        await google.colab.output.renderOutput(dataTable, element);\n",
              "        const docLink = document.createElement('div');\n",
              "        docLink.innerHTML = docLinkHtml;\n",
              "        element.appendChild(docLink);\n",
              "      }\n",
              "    </script>\n",
              "  </div>\n",
              "\n",
              "\n",
              "<div id=\"df-781266d8-6afa-46ce-96b7-4119b2009cd9\">\n",
              "  <button class=\"colab-df-quickchart\" onclick=\"quickchart('df-781266d8-6afa-46ce-96b7-4119b2009cd9')\"\n",
              "            title=\"Suggest charts.\"\n",
              "            style=\"display:none;\">\n",
              "\n",
              "<svg xmlns=\"http://www.w3.org/2000/svg\" height=\"24px\"viewBox=\"0 0 24 24\"\n",
              "     width=\"24px\">\n",
              "    <g>\n",
              "        <path d=\"M19 3H5c-1.1 0-2 .9-2 2v14c0 1.1.9 2 2 2h14c1.1 0 2-.9 2-2V5c0-1.1-.9-2-2-2zM9 17H7v-7h2v7zm4 0h-2V7h2v10zm4 0h-2v-4h2v4z\"/>\n",
              "    </g>\n",
              "</svg>\n",
              "  </button>\n",
              "\n",
              "<style>\n",
              "  .colab-df-quickchart {\n",
              "      --bg-color: #E8F0FE;\n",
              "      --fill-color: #1967D2;\n",
              "      --hover-bg-color: #E2EBFA;\n",
              "      --hover-fill-color: #174EA6;\n",
              "      --disabled-fill-color: #AAA;\n",
              "      --disabled-bg-color: #DDD;\n",
              "  }\n",
              "\n",
              "  [theme=dark] .colab-df-quickchart {\n",
              "      --bg-color: #3B4455;\n",
              "      --fill-color: #D2E3FC;\n",
              "      --hover-bg-color: #434B5C;\n",
              "      --hover-fill-color: #FFFFFF;\n",
              "      --disabled-bg-color: #3B4455;\n",
              "      --disabled-fill-color: #666;\n",
              "  }\n",
              "\n",
              "  .colab-df-quickchart {\n",
              "    background-color: var(--bg-color);\n",
              "    border: none;\n",
              "    border-radius: 50%;\n",
              "    cursor: pointer;\n",
              "    display: none;\n",
              "    fill: var(--fill-color);\n",
              "    height: 32px;\n",
              "    padding: 0;\n",
              "    width: 32px;\n",
              "  }\n",
              "\n",
              "  .colab-df-quickchart:hover {\n",
              "    background-color: var(--hover-bg-color);\n",
              "    box-shadow: 0 1px 2px rgba(60, 64, 67, 0.3), 0 1px 3px 1px rgba(60, 64, 67, 0.15);\n",
              "    fill: var(--button-hover-fill-color);\n",
              "  }\n",
              "\n",
              "  .colab-df-quickchart-complete:disabled,\n",
              "  .colab-df-quickchart-complete:disabled:hover {\n",
              "    background-color: var(--disabled-bg-color);\n",
              "    fill: var(--disabled-fill-color);\n",
              "    box-shadow: none;\n",
              "  }\n",
              "\n",
              "  .colab-df-spinner {\n",
              "    border: 2px solid var(--fill-color);\n",
              "    border-color: transparent;\n",
              "    border-bottom-color: var(--fill-color);\n",
              "    animation:\n",
              "      spin 1s steps(1) infinite;\n",
              "  }\n",
              "\n",
              "  @keyframes spin {\n",
              "    0% {\n",
              "      border-color: transparent;\n",
              "      border-bottom-color: var(--fill-color);\n",
              "      border-left-color: var(--fill-color);\n",
              "    }\n",
              "    20% {\n",
              "      border-color: transparent;\n",
              "      border-left-color: var(--fill-color);\n",
              "      border-top-color: var(--fill-color);\n",
              "    }\n",
              "    30% {\n",
              "      border-color: transparent;\n",
              "      border-left-color: var(--fill-color);\n",
              "      border-top-color: var(--fill-color);\n",
              "      border-right-color: var(--fill-color);\n",
              "    }\n",
              "    40% {\n",
              "      border-color: transparent;\n",
              "      border-right-color: var(--fill-color);\n",
              "      border-top-color: var(--fill-color);\n",
              "    }\n",
              "    60% {\n",
              "      border-color: transparent;\n",
              "      border-right-color: var(--fill-color);\n",
              "    }\n",
              "    80% {\n",
              "      border-color: transparent;\n",
              "      border-right-color: var(--fill-color);\n",
              "      border-bottom-color: var(--fill-color);\n",
              "    }\n",
              "    90% {\n",
              "      border-color: transparent;\n",
              "      border-bottom-color: var(--fill-color);\n",
              "    }\n",
              "  }\n",
              "</style>\n",
              "\n",
              "  <script>\n",
              "    async function quickchart(key) {\n",
              "      const quickchartButtonEl =\n",
              "        document.querySelector('#' + key + ' button');\n",
              "      quickchartButtonEl.disabled = true;  // To prevent multiple clicks.\n",
              "      quickchartButtonEl.classList.add('colab-df-spinner');\n",
              "      try {\n",
              "        const charts = await google.colab.kernel.invokeFunction(\n",
              "            'suggestCharts', [key], {});\n",
              "      } catch (error) {\n",
              "        console.error('Error during call to suggestCharts:', error);\n",
              "      }\n",
              "      quickchartButtonEl.classList.remove('colab-df-spinner');\n",
              "      quickchartButtonEl.classList.add('colab-df-quickchart-complete');\n",
              "    }\n",
              "    (() => {\n",
              "      let quickchartButtonEl =\n",
              "        document.querySelector('#df-781266d8-6afa-46ce-96b7-4119b2009cd9 button');\n",
              "      quickchartButtonEl.style.display =\n",
              "        google.colab.kernel.accessAllowed ? 'block' : 'none';\n",
              "    })();\n",
              "  </script>\n",
              "</div>\n",
              "    </div>\n",
              "  </div>\n"
            ]
          },
          "metadata": {},
          "execution_count": 109
        }
      ],
      "source": [
        "# read the data\n",
        "df = pd.read_csv('/content/drive/MyDrive/Python Course/foodhub_order.csv')\n",
        "# returns the first 5 rows\n",
        "df.head()"
      ]
    },
    {
      "cell_type": "markdown",
      "metadata": {
        "id": "J_Y9aJDJJY_P"
      },
      "source": [
        "#### Observations:\n",
        "\n",
        "The DataFrame has 9 columns as mentioned in the Data Dictionary. Data in each row corresponds to the order placed by a customer."
      ]
    },
    {
      "cell_type": "markdown",
      "metadata": {
        "id": "c3kenV4vJY_Q"
      },
      "source": [
        "### **Question 1:** How many rows and columns are present in the data? [0.5 mark]"
      ]
    },
    {
      "cell_type": "code",
      "execution_count": null,
      "metadata": {
        "id": "Yvz5i-PhJY_Q",
        "colab": {
          "base_uri": "https://localhost:8080/"
        },
        "outputId": "5711b228-95ea-4842-f13d-e6620702556e"
      },
      "outputs": [
        {
          "output_type": "execute_result",
          "data": {
            "text/plain": [
              "(1898, 9)"
            ]
          },
          "metadata": {},
          "execution_count": 110
        }
      ],
      "source": [
        "df.shape\n",
        "#Format for df.shape is (row, column)"
      ]
    },
    {
      "cell_type": "markdown",
      "metadata": {
        "id": "UsTNy3unJY_R"
      },
      "source": [
        "\n",
        "\n",
        "#### Observations: There are **1898** rows and **9** columns present in the data.\n"
      ]
    },
    {
      "cell_type": "markdown",
      "metadata": {
        "id": "jRXakVrUJY_R"
      },
      "source": [
        "### **Question 2:** What are the datatypes of the different columns in the dataset? (The info() function can be used) [0.5 mark]"
      ]
    },
    {
      "cell_type": "code",
      "execution_count": null,
      "metadata": {
        "id": "Kp70Z0BNJY_R",
        "colab": {
          "base_uri": "https://localhost:8080/"
        },
        "outputId": "650f14c5-b638-486d-8398-fca5916e735b"
      },
      "outputs": [
        {
          "output_type": "stream",
          "name": "stdout",
          "text": [
            "<class 'pandas.core.frame.DataFrame'>\n",
            "RangeIndex: 1898 entries, 0 to 1897\n",
            "Data columns (total 9 columns):\n",
            " #   Column                 Non-Null Count  Dtype  \n",
            "---  ------                 --------------  -----  \n",
            " 0   order_id               1898 non-null   int64  \n",
            " 1   customer_id            1898 non-null   int64  \n",
            " 2   restaurant_name        1898 non-null   object \n",
            " 3   cuisine_type           1898 non-null   object \n",
            " 4   cost_of_the_order      1898 non-null   float64\n",
            " 5   day_of_the_week        1898 non-null   object \n",
            " 6   rating                 1898 non-null   object \n",
            " 7   food_preparation_time  1898 non-null   int64  \n",
            " 8   delivery_time          1898 non-null   int64  \n",
            "dtypes: float64(1), int64(4), object(4)\n",
            "memory usage: 133.6+ KB\n"
          ]
        }
      ],
      "source": [
        "df.info()\n",
        "#Once df.info() is run, under \"Dtype\", we see the various datatypes."
      ]
    },
    {
      "cell_type": "markdown",
      "metadata": {
        "id": "WJes5GP2JY_S"
      },
      "source": [
        "#### Observations: The different datatypes of the columns include **integers** (order_id, customer_id, food_preparation_time, delivery_time), **objects** (restaurant_name, cuisine_type, day_of_the_week, rating), and a **float** (cost_of_the_order).\n"
      ]
    },
    {
      "cell_type": "markdown",
      "metadata": {
        "id": "pF_92MN6JY_S"
      },
      "source": [
        "### **Question 3:** Are there any missing values in the data? If yes, treat them using an appropriate method. [1 mark]"
      ]
    },
    {
      "cell_type": "code",
      "execution_count": null,
      "metadata": {
        "id": "Zth-RR1PJY_S",
        "colab": {
          "base_uri": "https://localhost:8080/"
        },
        "outputId": "cfcafcae-6213-4c8f-c040-f2f031d40eb4"
      },
      "outputs": [
        {
          "output_type": "stream",
          "name": "stdout",
          "text": [
            "<class 'pandas.core.frame.DataFrame'>\n",
            "RangeIndex: 1898 entries, 0 to 1897\n",
            "Data columns (total 9 columns):\n",
            " #   Column                 Non-Null Count  Dtype  \n",
            "---  ------                 --------------  -----  \n",
            " 0   order_id               1898 non-null   int64  \n",
            " 1   customer_id            1898 non-null   int64  \n",
            " 2   restaurant_name        1898 non-null   object \n",
            " 3   cuisine_type           1898 non-null   object \n",
            " 4   cost_of_the_order      1898 non-null   float64\n",
            " 5   day_of_the_week        1898 non-null   object \n",
            " 6   rating                 1898 non-null   object \n",
            " 7   food_preparation_time  1898 non-null   int64  \n",
            " 8   delivery_time          1898 non-null   int64  \n",
            "dtypes: float64(1), int64(4), object(4)\n",
            "memory usage: 133.6+ KB\n"
          ]
        }
      ],
      "source": [
        "df.info()\n",
        "#Once df.info() is run, we see the non-null count equals the total number of rows for all columns."
      ]
    },
    {
      "cell_type": "markdown",
      "metadata": {
        "id": "jDHT3vD1JY_S"
      },
      "source": [
        "\n",
        "#### Observations: There are no missing values in the data, since the non-null count equals the number of rows for all columns.\n"
      ]
    },
    {
      "cell_type": "markdown",
      "metadata": {
        "id": "MnJo7MWrJY_S"
      },
      "source": [
        "### **Question 4:** Check the statistical summary of the data. What is the minimum, average, and maximum time it takes for food to be prepared once an order is placed? [2 marks]"
      ]
    },
    {
      "cell_type": "code",
      "execution_count": null,
      "metadata": {
        "id": "WprQBgOSJY_T",
        "colab": {
          "base_uri": "https://localhost:8080/",
          "height": 365
        },
        "outputId": "70c32e14-2478-4e8c-a70c-2a7f90643875"
      },
      "outputs": [
        {
          "output_type": "execute_result",
          "data": {
            "text/plain": [
              "                        count unique          top  freq           mean  \\\n",
              "order_id               1898.0    NaN          NaN   NaN      1477495.5   \n",
              "customer_id            1898.0    NaN          NaN   NaN  171168.478398   \n",
              "restaurant_name          1898    178  Shake Shack   219            NaN   \n",
              "cuisine_type             1898     14     American   584            NaN   \n",
              "cost_of_the_order      1898.0    NaN          NaN   NaN      16.498851   \n",
              "day_of_the_week          1898      2      Weekend  1351            NaN   \n",
              "rating                   1898      4    Not given   736            NaN   \n",
              "food_preparation_time  1898.0    NaN          NaN   NaN       27.37197   \n",
              "delivery_time          1898.0    NaN          NaN   NaN      24.161749   \n",
              "\n",
              "                                 std        min         25%        50%  \\\n",
              "order_id                  548.049724  1476547.0  1477021.25  1477495.5   \n",
              "customer_id            113698.139743     1311.0    77787.75   128600.0   \n",
              "restaurant_name                  NaN        NaN         NaN        NaN   \n",
              "cuisine_type                     NaN        NaN         NaN        NaN   \n",
              "cost_of_the_order           7.483812       4.47       12.08      14.14   \n",
              "day_of_the_week                  NaN        NaN         NaN        NaN   \n",
              "rating                           NaN        NaN         NaN        NaN   \n",
              "food_preparation_time       4.632481       20.0        23.0       27.0   \n",
              "delivery_time               4.972637       15.0        20.0       25.0   \n",
              "\n",
              "                              75%        max  \n",
              "order_id               1477969.75  1478444.0  \n",
              "customer_id              270525.0   405334.0  \n",
              "restaurant_name               NaN        NaN  \n",
              "cuisine_type                  NaN        NaN  \n",
              "cost_of_the_order         22.2975      35.41  \n",
              "day_of_the_week               NaN        NaN  \n",
              "rating                        NaN        NaN  \n",
              "food_preparation_time        31.0       35.0  \n",
              "delivery_time                28.0       33.0  "
            ],
            "text/html": [
              "\n",
              "  <div id=\"df-f5b52efe-ab4d-4403-9791-30303afd8816\" class=\"colab-df-container\">\n",
              "    <div>\n",
              "<style scoped>\n",
              "    .dataframe tbody tr th:only-of-type {\n",
              "        vertical-align: middle;\n",
              "    }\n",
              "\n",
              "    .dataframe tbody tr th {\n",
              "        vertical-align: top;\n",
              "    }\n",
              "\n",
              "    .dataframe thead th {\n",
              "        text-align: right;\n",
              "    }\n",
              "</style>\n",
              "<table border=\"1\" class=\"dataframe\">\n",
              "  <thead>\n",
              "    <tr style=\"text-align: right;\">\n",
              "      <th></th>\n",
              "      <th>count</th>\n",
              "      <th>unique</th>\n",
              "      <th>top</th>\n",
              "      <th>freq</th>\n",
              "      <th>mean</th>\n",
              "      <th>std</th>\n",
              "      <th>min</th>\n",
              "      <th>25%</th>\n",
              "      <th>50%</th>\n",
              "      <th>75%</th>\n",
              "      <th>max</th>\n",
              "    </tr>\n",
              "  </thead>\n",
              "  <tbody>\n",
              "    <tr>\n",
              "      <th>order_id</th>\n",
              "      <td>1898.0</td>\n",
              "      <td>NaN</td>\n",
              "      <td>NaN</td>\n",
              "      <td>NaN</td>\n",
              "      <td>1477495.5</td>\n",
              "      <td>548.049724</td>\n",
              "      <td>1476547.0</td>\n",
              "      <td>1477021.25</td>\n",
              "      <td>1477495.5</td>\n",
              "      <td>1477969.75</td>\n",
              "      <td>1478444.0</td>\n",
              "    </tr>\n",
              "    <tr>\n",
              "      <th>customer_id</th>\n",
              "      <td>1898.0</td>\n",
              "      <td>NaN</td>\n",
              "      <td>NaN</td>\n",
              "      <td>NaN</td>\n",
              "      <td>171168.478398</td>\n",
              "      <td>113698.139743</td>\n",
              "      <td>1311.0</td>\n",
              "      <td>77787.75</td>\n",
              "      <td>128600.0</td>\n",
              "      <td>270525.0</td>\n",
              "      <td>405334.0</td>\n",
              "    </tr>\n",
              "    <tr>\n",
              "      <th>restaurant_name</th>\n",
              "      <td>1898</td>\n",
              "      <td>178</td>\n",
              "      <td>Shake Shack</td>\n",
              "      <td>219</td>\n",
              "      <td>NaN</td>\n",
              "      <td>NaN</td>\n",
              "      <td>NaN</td>\n",
              "      <td>NaN</td>\n",
              "      <td>NaN</td>\n",
              "      <td>NaN</td>\n",
              "      <td>NaN</td>\n",
              "    </tr>\n",
              "    <tr>\n",
              "      <th>cuisine_type</th>\n",
              "      <td>1898</td>\n",
              "      <td>14</td>\n",
              "      <td>American</td>\n",
              "      <td>584</td>\n",
              "      <td>NaN</td>\n",
              "      <td>NaN</td>\n",
              "      <td>NaN</td>\n",
              "      <td>NaN</td>\n",
              "      <td>NaN</td>\n",
              "      <td>NaN</td>\n",
              "      <td>NaN</td>\n",
              "    </tr>\n",
              "    <tr>\n",
              "      <th>cost_of_the_order</th>\n",
              "      <td>1898.0</td>\n",
              "      <td>NaN</td>\n",
              "      <td>NaN</td>\n",
              "      <td>NaN</td>\n",
              "      <td>16.498851</td>\n",
              "      <td>7.483812</td>\n",
              "      <td>4.47</td>\n",
              "      <td>12.08</td>\n",
              "      <td>14.14</td>\n",
              "      <td>22.2975</td>\n",
              "      <td>35.41</td>\n",
              "    </tr>\n",
              "    <tr>\n",
              "      <th>day_of_the_week</th>\n",
              "      <td>1898</td>\n",
              "      <td>2</td>\n",
              "      <td>Weekend</td>\n",
              "      <td>1351</td>\n",
              "      <td>NaN</td>\n",
              "      <td>NaN</td>\n",
              "      <td>NaN</td>\n",
              "      <td>NaN</td>\n",
              "      <td>NaN</td>\n",
              "      <td>NaN</td>\n",
              "      <td>NaN</td>\n",
              "    </tr>\n",
              "    <tr>\n",
              "      <th>rating</th>\n",
              "      <td>1898</td>\n",
              "      <td>4</td>\n",
              "      <td>Not given</td>\n",
              "      <td>736</td>\n",
              "      <td>NaN</td>\n",
              "      <td>NaN</td>\n",
              "      <td>NaN</td>\n",
              "      <td>NaN</td>\n",
              "      <td>NaN</td>\n",
              "      <td>NaN</td>\n",
              "      <td>NaN</td>\n",
              "    </tr>\n",
              "    <tr>\n",
              "      <th>food_preparation_time</th>\n",
              "      <td>1898.0</td>\n",
              "      <td>NaN</td>\n",
              "      <td>NaN</td>\n",
              "      <td>NaN</td>\n",
              "      <td>27.37197</td>\n",
              "      <td>4.632481</td>\n",
              "      <td>20.0</td>\n",
              "      <td>23.0</td>\n",
              "      <td>27.0</td>\n",
              "      <td>31.0</td>\n",
              "      <td>35.0</td>\n",
              "    </tr>\n",
              "    <tr>\n",
              "      <th>delivery_time</th>\n",
              "      <td>1898.0</td>\n",
              "      <td>NaN</td>\n",
              "      <td>NaN</td>\n",
              "      <td>NaN</td>\n",
              "      <td>24.161749</td>\n",
              "      <td>4.972637</td>\n",
              "      <td>15.0</td>\n",
              "      <td>20.0</td>\n",
              "      <td>25.0</td>\n",
              "      <td>28.0</td>\n",
              "      <td>33.0</td>\n",
              "    </tr>\n",
              "  </tbody>\n",
              "</table>\n",
              "</div>\n",
              "    <div class=\"colab-df-buttons\">\n",
              "\n",
              "  <div class=\"colab-df-container\">\n",
              "    <button class=\"colab-df-convert\" onclick=\"convertToInteractive('df-f5b52efe-ab4d-4403-9791-30303afd8816')\"\n",
              "            title=\"Convert this dataframe to an interactive table.\"\n",
              "            style=\"display:none;\">\n",
              "\n",
              "  <svg xmlns=\"http://www.w3.org/2000/svg\" height=\"24px\" viewBox=\"0 -960 960 960\">\n",
              "    <path d=\"M120-120v-720h720v720H120Zm60-500h600v-160H180v160Zm220 220h160v-160H400v160Zm0 220h160v-160H400v160ZM180-400h160v-160H180v160Zm440 0h160v-160H620v160ZM180-180h160v-160H180v160Zm440 0h160v-160H620v160Z\"/>\n",
              "  </svg>\n",
              "    </button>\n",
              "\n",
              "  <style>\n",
              "    .colab-df-container {\n",
              "      display:flex;\n",
              "      gap: 12px;\n",
              "    }\n",
              "\n",
              "    .colab-df-convert {\n",
              "      background-color: #E8F0FE;\n",
              "      border: none;\n",
              "      border-radius: 50%;\n",
              "      cursor: pointer;\n",
              "      display: none;\n",
              "      fill: #1967D2;\n",
              "      height: 32px;\n",
              "      padding: 0 0 0 0;\n",
              "      width: 32px;\n",
              "    }\n",
              "\n",
              "    .colab-df-convert:hover {\n",
              "      background-color: #E2EBFA;\n",
              "      box-shadow: 0px 1px 2px rgba(60, 64, 67, 0.3), 0px 1px 3px 1px rgba(60, 64, 67, 0.15);\n",
              "      fill: #174EA6;\n",
              "    }\n",
              "\n",
              "    .colab-df-buttons div {\n",
              "      margin-bottom: 4px;\n",
              "    }\n",
              "\n",
              "    [theme=dark] .colab-df-convert {\n",
              "      background-color: #3B4455;\n",
              "      fill: #D2E3FC;\n",
              "    }\n",
              "\n",
              "    [theme=dark] .colab-df-convert:hover {\n",
              "      background-color: #434B5C;\n",
              "      box-shadow: 0px 1px 3px 1px rgba(0, 0, 0, 0.15);\n",
              "      filter: drop-shadow(0px 1px 2px rgba(0, 0, 0, 0.3));\n",
              "      fill: #FFFFFF;\n",
              "    }\n",
              "  </style>\n",
              "\n",
              "    <script>\n",
              "      const buttonEl =\n",
              "        document.querySelector('#df-f5b52efe-ab4d-4403-9791-30303afd8816 button.colab-df-convert');\n",
              "      buttonEl.style.display =\n",
              "        google.colab.kernel.accessAllowed ? 'block' : 'none';\n",
              "\n",
              "      async function convertToInteractive(key) {\n",
              "        const element = document.querySelector('#df-f5b52efe-ab4d-4403-9791-30303afd8816');\n",
              "        const dataTable =\n",
              "          await google.colab.kernel.invokeFunction('convertToInteractive',\n",
              "                                                    [key], {});\n",
              "        if (!dataTable) return;\n",
              "\n",
              "        const docLinkHtml = 'Like what you see? Visit the ' +\n",
              "          '<a target=\"_blank\" href=https://colab.research.google.com/notebooks/data_table.ipynb>data table notebook</a>'\n",
              "          + ' to learn more about interactive tables.';\n",
              "        element.innerHTML = '';\n",
              "        dataTable['output_type'] = 'display_data';\n",
              "        await google.colab.output.renderOutput(dataTable, element);\n",
              "        const docLink = document.createElement('div');\n",
              "        docLink.innerHTML = docLinkHtml;\n",
              "        element.appendChild(docLink);\n",
              "      }\n",
              "    </script>\n",
              "  </div>\n",
              "\n",
              "\n",
              "<div id=\"df-688986c8-e50a-4362-a814-659cb3957b65\">\n",
              "  <button class=\"colab-df-quickchart\" onclick=\"quickchart('df-688986c8-e50a-4362-a814-659cb3957b65')\"\n",
              "            title=\"Suggest charts.\"\n",
              "            style=\"display:none;\">\n",
              "\n",
              "<svg xmlns=\"http://www.w3.org/2000/svg\" height=\"24px\"viewBox=\"0 0 24 24\"\n",
              "     width=\"24px\">\n",
              "    <g>\n",
              "        <path d=\"M19 3H5c-1.1 0-2 .9-2 2v14c0 1.1.9 2 2 2h14c1.1 0 2-.9 2-2V5c0-1.1-.9-2-2-2zM9 17H7v-7h2v7zm4 0h-2V7h2v10zm4 0h-2v-4h2v4z\"/>\n",
              "    </g>\n",
              "</svg>\n",
              "  </button>\n",
              "\n",
              "<style>\n",
              "  .colab-df-quickchart {\n",
              "      --bg-color: #E8F0FE;\n",
              "      --fill-color: #1967D2;\n",
              "      --hover-bg-color: #E2EBFA;\n",
              "      --hover-fill-color: #174EA6;\n",
              "      --disabled-fill-color: #AAA;\n",
              "      --disabled-bg-color: #DDD;\n",
              "  }\n",
              "\n",
              "  [theme=dark] .colab-df-quickchart {\n",
              "      --bg-color: #3B4455;\n",
              "      --fill-color: #D2E3FC;\n",
              "      --hover-bg-color: #434B5C;\n",
              "      --hover-fill-color: #FFFFFF;\n",
              "      --disabled-bg-color: #3B4455;\n",
              "      --disabled-fill-color: #666;\n",
              "  }\n",
              "\n",
              "  .colab-df-quickchart {\n",
              "    background-color: var(--bg-color);\n",
              "    border: none;\n",
              "    border-radius: 50%;\n",
              "    cursor: pointer;\n",
              "    display: none;\n",
              "    fill: var(--fill-color);\n",
              "    height: 32px;\n",
              "    padding: 0;\n",
              "    width: 32px;\n",
              "  }\n",
              "\n",
              "  .colab-df-quickchart:hover {\n",
              "    background-color: var(--hover-bg-color);\n",
              "    box-shadow: 0 1px 2px rgba(60, 64, 67, 0.3), 0 1px 3px 1px rgba(60, 64, 67, 0.15);\n",
              "    fill: var(--button-hover-fill-color);\n",
              "  }\n",
              "\n",
              "  .colab-df-quickchart-complete:disabled,\n",
              "  .colab-df-quickchart-complete:disabled:hover {\n",
              "    background-color: var(--disabled-bg-color);\n",
              "    fill: var(--disabled-fill-color);\n",
              "    box-shadow: none;\n",
              "  }\n",
              "\n",
              "  .colab-df-spinner {\n",
              "    border: 2px solid var(--fill-color);\n",
              "    border-color: transparent;\n",
              "    border-bottom-color: var(--fill-color);\n",
              "    animation:\n",
              "      spin 1s steps(1) infinite;\n",
              "  }\n",
              "\n",
              "  @keyframes spin {\n",
              "    0% {\n",
              "      border-color: transparent;\n",
              "      border-bottom-color: var(--fill-color);\n",
              "      border-left-color: var(--fill-color);\n",
              "    }\n",
              "    20% {\n",
              "      border-color: transparent;\n",
              "      border-left-color: var(--fill-color);\n",
              "      border-top-color: var(--fill-color);\n",
              "    }\n",
              "    30% {\n",
              "      border-color: transparent;\n",
              "      border-left-color: var(--fill-color);\n",
              "      border-top-color: var(--fill-color);\n",
              "      border-right-color: var(--fill-color);\n",
              "    }\n",
              "    40% {\n",
              "      border-color: transparent;\n",
              "      border-right-color: var(--fill-color);\n",
              "      border-top-color: var(--fill-color);\n",
              "    }\n",
              "    60% {\n",
              "      border-color: transparent;\n",
              "      border-right-color: var(--fill-color);\n",
              "    }\n",
              "    80% {\n",
              "      border-color: transparent;\n",
              "      border-right-color: var(--fill-color);\n",
              "      border-bottom-color: var(--fill-color);\n",
              "    }\n",
              "    90% {\n",
              "      border-color: transparent;\n",
              "      border-bottom-color: var(--fill-color);\n",
              "    }\n",
              "  }\n",
              "</style>\n",
              "\n",
              "  <script>\n",
              "    async function quickchart(key) {\n",
              "      const quickchartButtonEl =\n",
              "        document.querySelector('#' + key + ' button');\n",
              "      quickchartButtonEl.disabled = true;  // To prevent multiple clicks.\n",
              "      quickchartButtonEl.classList.add('colab-df-spinner');\n",
              "      try {\n",
              "        const charts = await google.colab.kernel.invokeFunction(\n",
              "            'suggestCharts', [key], {});\n",
              "      } catch (error) {\n",
              "        console.error('Error during call to suggestCharts:', error);\n",
              "      }\n",
              "      quickchartButtonEl.classList.remove('colab-df-spinner');\n",
              "      quickchartButtonEl.classList.add('colab-df-quickchart-complete');\n",
              "    }\n",
              "    (() => {\n",
              "      let quickchartButtonEl =\n",
              "        document.querySelector('#df-688986c8-e50a-4362-a814-659cb3957b65 button');\n",
              "      quickchartButtonEl.style.display =\n",
              "        google.colab.kernel.accessAllowed ? 'block' : 'none';\n",
              "    })();\n",
              "  </script>\n",
              "</div>\n",
              "    </div>\n",
              "  </div>\n"
            ]
          },
          "metadata": {},
          "execution_count": 113
        }
      ],
      "source": [
        "df.describe(include = 'all').T\n",
        "#df.describe shows the min, mean, and max for each numeric variable."
      ]
    },
    {
      "cell_type": "markdown",
      "metadata": {
        "id": "9YbSOR5wJY_T"
      },
      "source": [
        "#### Observations: For the time it takes for food to be prepared, the minimum is **20** minutes, the average is **27.37** minutes, and the maximum is **35** minutes.\n"
      ]
    },
    {
      "cell_type": "markdown",
      "metadata": {
        "id": "cw3l58z_JY_T"
      },
      "source": [
        "### **Question 5:** How many orders are not rated? [1 mark]"
      ]
    },
    {
      "cell_type": "code",
      "execution_count": null,
      "metadata": {
        "id": "hEzDUL9wgksi",
        "colab": {
          "base_uri": "https://localhost:8080/"
        },
        "outputId": "ddcd5e9a-a574-4b49-94b4-9d0b18c19fde"
      },
      "outputs": [
        {
          "output_type": "execute_result",
          "data": {
            "text/plain": [
              "Not given    736\n",
              "5            588\n",
              "4            386\n",
              "3            188\n",
              "Name: rating, dtype: int64"
            ]
          },
          "metadata": {},
          "execution_count": 114
        }
      ],
      "source": [
        "df['rating'].value_counts()\n",
        "#Focusing on the \"Not given\" section of the counts"
      ]
    },
    {
      "cell_type": "markdown",
      "metadata": {
        "id": "5E0O_oviJY_T"
      },
      "source": [
        "#### Observations: There are **736** orders that were not rated.\n"
      ]
    },
    {
      "cell_type": "markdown",
      "metadata": {
        "id": "7msIfXE-JY_T"
      },
      "source": [
        "### Exploratory Data Analysis (EDA)"
      ]
    },
    {
      "cell_type": "markdown",
      "metadata": {
        "id": "-2xfI28YJY_T"
      },
      "source": [
        "### Univariate Analysis"
      ]
    },
    {
      "cell_type": "markdown",
      "metadata": {
        "id": "0RHZnugBJY_U"
      },
      "source": [
        "### **Question 6:** Explore all the variables and provide observations on their distributions. (Generally, histograms, boxplots, countplots, etc. are used for univariate exploration.) [9 marks]"
      ]
    },
    {
      "cell_type": "code",
      "execution_count": null,
      "metadata": {
        "id": "rU5ZqISjJY_U",
        "colab": {
          "base_uri": "https://localhost:8080/"
        },
        "outputId": "9d21b633-a0f1-44e5-dcdf-49b70a0f4312"
      },
      "outputs": [
        {
          "output_type": "execute_result",
          "data": {
            "text/plain": [
              "1898"
            ]
          },
          "metadata": {},
          "execution_count": 115
        }
      ],
      "source": [
        "df['order_id'].nunique()\n",
        "#1898 unique orders"
      ]
    },
    {
      "cell_type": "markdown",
      "source": [
        "**Order ID:**\n",
        "- Since there is no missing variables in this row, the number of orders equals **1898**."
      ],
      "metadata": {
        "id": "Dr4DHNHMtM4E"
      }
    },
    {
      "cell_type": "code",
      "source": [
        "df['customer_id'].nunique()\n",
        "#1200 unique customers"
      ],
      "metadata": {
        "colab": {
          "base_uri": "https://localhost:8080/"
        },
        "id": "YHinQKk_FUK2",
        "outputId": "878a92f1-697e-414e-d196-0504e87d88df"
      },
      "execution_count": null,
      "outputs": [
        {
          "output_type": "execute_result",
          "data": {
            "text/plain": [
              "1200"
            ]
          },
          "metadata": {},
          "execution_count": 116
        }
      ]
    },
    {
      "cell_type": "markdown",
      "source": [
        "**Customer ID:**\n",
        "- There are **1200** total customers within the data."
      ],
      "metadata": {
        "id": "G7tDQ7MstTL3"
      }
    },
    {
      "cell_type": "code",
      "source": [
        "df['restaurant_name'].nunique()\n",
        "#178 unique restaurants"
      ],
      "metadata": {
        "colab": {
          "base_uri": "https://localhost:8080/"
        },
        "id": "tg-XTCmzFYLI",
        "outputId": "1aa1b8c8-5d5c-4cc7-f5ed-6c7547836b40"
      },
      "execution_count": null,
      "outputs": [
        {
          "output_type": "execute_result",
          "data": {
            "text/plain": [
              "178"
            ]
          },
          "metadata": {},
          "execution_count": 117
        }
      ]
    },
    {
      "cell_type": "markdown",
      "source": [
        "**Restaurant Name:**\n",
        "- There are **178** total restaurants within the data, the most common being Shake Shack."
      ],
      "metadata": {
        "id": "lFvjK2vrtfWM"
      }
    },
    {
      "cell_type": "code",
      "source": [
        "df['cuisine_type'].nunique()\n",
        "df['cuisine_type'].value_counts()\n",
        "#Counts of each type of cuisine"
      ],
      "metadata": {
        "colab": {
          "base_uri": "https://localhost:8080/"
        },
        "id": "Cb6e6D6TFbJX",
        "outputId": "cabe5b22-5f51-4454-8ca0-3def8b27782d"
      },
      "execution_count": null,
      "outputs": [
        {
          "output_type": "execute_result",
          "data": {
            "text/plain": [
              "American          584\n",
              "Japanese          470\n",
              "Italian           298\n",
              "Chinese           215\n",
              "Mexican            77\n",
              "Indian             73\n",
              "Middle Eastern     49\n",
              "Mediterranean      46\n",
              "Thai               19\n",
              "French             18\n",
              "Southern           17\n",
              "Korean             13\n",
              "Spanish            12\n",
              "Vietnamese          7\n",
              "Name: cuisine_type, dtype: int64"
            ]
          },
          "metadata": {},
          "execution_count": 118
        }
      ]
    },
    {
      "cell_type": "markdown",
      "source": [
        "**Cusisine Type:**\n",
        "- There are **14** different types of cusine within the data. The most common is American food (584 orders) and the least common is Vietnamese (7 orders)"
      ],
      "metadata": {
        "id": "ERpePUsltks8"
      }
    },
    {
      "cell_type": "code",
      "source": [
        "df['day_of_the_week'].nunique()\n",
        "sns.countplot(data = df, x = 'day_of_the_week')\n",
        "df['day_of_the_week'].value_counts()\n",
        "#Countplot to show distribution of Weekend vs Weekday orders"
      ],
      "metadata": {
        "colab": {
          "base_uri": "https://localhost:8080/",
          "height": 501
        },
        "id": "m_65FnC0GaAT",
        "outputId": "7a3f00c3-5079-4158-9e98-d978abba2a1c"
      },
      "execution_count": null,
      "outputs": [
        {
          "output_type": "execute_result",
          "data": {
            "text/plain": [
              "Weekend    1351\n",
              "Weekday     547\n",
              "Name: day_of_the_week, dtype: int64"
            ]
          },
          "metadata": {},
          "execution_count": 119
        },
        {
          "output_type": "display_data",
          "data": {
            "text/plain": [
              "<Figure size 640x480 with 1 Axes>"
            ],
            "image/png": "[encoded data removed]"
          },
          "metadata": {}
        }
      ]
    },
    {
      "cell_type": "markdown",
      "source": [
        "**Day of the Week:**\n",
        "- The orders are separated by either placed on a Weekday or Weekend (no futher specification on the day of the week). Although the Weekday constitutes more days out of the week, the **Weekend** was more popular for Foodhub orders (1351 orders on the Weekend and only 547 orders for Weekdays)."
      ],
      "metadata": {
        "id": "g1Aes4t7tpng"
      }
    },
    {
      "cell_type": "code",
      "source": [
        "df['rating'].nunique()\n",
        "sns.countplot(data = df, x = 'rating')\n",
        "df['rating'].value_counts()\n",
        "#Countplot to show distribution of ratings"
      ],
      "metadata": {
        "colab": {
          "base_uri": "https://localhost:8080/",
          "height": 534
        },
        "id": "oEZVurPbH-kX",
        "outputId": "209aeaca-2998-4030-c193-59d10d7b748a"
      },
      "execution_count": null,
      "outputs": [
        {
          "output_type": "execute_result",
          "data": {
            "text/plain": [
              "Not given    736\n",
              "5            588\n",
              "4            386\n",
              "3            188\n",
              "Name: rating, dtype: int64"
            ]
          },
          "metadata": {},
          "execution_count": 120
        },
        {
          "output_type": "display_data",
          "data": {
            "text/plain": [
              "<Figure size 640x480 with 1 Axes>"
            ],
            "image/png": "[encoded data removed]"
          },
          "metadata": {}
        }
      ]
    },
    {
      "cell_type": "markdown",
      "source": [
        "**Rating:**\n",
        "- Although the majority of orders did not give a rating (736 orders), there were no ratings below a 3. There are **588** \"5-star\" orders, **386** \"4-star\" orders, and only **188** \"3-star\" orders present in the data."
      ],
      "metadata": {
        "id": "kDzlEPcCtv1L"
      }
    },
    {
      "cell_type": "code",
      "source": [
        "sns.boxplot(data=df, x = 'cost_of_the_order')\n",
        "plt.show()\n",
        "#Boxplot to show a right skew in data"
      ],
      "metadata": {
        "colab": {
          "base_uri": "https://localhost:8080/",
          "height": 450
        },
        "id": "FjXgNWcRJ_x0",
        "outputId": "6e05905f-bf97-4ac7-8cf3-5d54e7bb8555"
      },
      "execution_count": null,
      "outputs": [
        {
          "output_type": "display_data",
          "data": {
            "text/plain": [
              "<Figure size 640x480 with 1 Axes>"
            ],
            "image/png": "[encoded data removed]"
          },
          "metadata": {}
        }
      ]
    },
    {
      "cell_type": "code",
      "source": [
        "sns.histplot(data=df, x = 'cost_of_the_order')\n",
        "plt.show()"
      ],
      "metadata": {
        "colab": {
          "base_uri": "https://localhost:8080/",
          "height": 450
        },
        "id": "-MiLPuXbNe_y",
        "outputId": "bfb5155e-70fd-4319-fd39-c6d06903ebfe"
      },
      "execution_count": null,
      "outputs": [
        {
          "output_type": "display_data",
          "data": {
            "text/plain": [
              "<Figure size 640x480 with 1 Axes>"
            ],
            "image/png": "[encoded data removed]"
          },
          "metadata": {}
        }
      ]
    },
    {
      "cell_type": "markdown",
      "source": [
        "**Cost of the Order:**\n",
        "- After analyzing a histogram and boxplot of the cost data, the data seems be skewed to the right. The average cost of an order is **$16.50**, the 25th percentile is **12.08**, the median is **14.14**, and the 75th percentile is **22.30**."
      ],
      "metadata": {
        "id": "EsOqiKB-t4oj"
      }
    },
    {
      "cell_type": "code",
      "source": [
        "sns.histplot(data=df, x = 'food_preparation_time')\n",
        "plt.show()"
      ],
      "metadata": {
        "colab": {
          "base_uri": "https://localhost:8080/",
          "height": 450
        },
        "id": "ZuOZU0QRS7Td",
        "outputId": "1d85d582-39ed-4bd4-95a7-b220953cc800"
      },
      "execution_count": null,
      "outputs": [
        {
          "output_type": "display_data",
          "data": {
            "text/plain": [
              "<Figure size 640x480 with 1 Axes>"
            ],
            "image/png": "[encoded data removed]"
          },
          "metadata": {}
        }
      ]
    },
    {
      "cell_type": "code",
      "source": [
        "sns.boxplot(data=df, x = 'food_preparation_time')\n",
        "plt.show()\n",
        "#Boxplot to show normal distribution"
      ],
      "metadata": {
        "colab": {
          "base_uri": "https://localhost:8080/",
          "height": 450
        },
        "id": "7w56XAUeT0iI",
        "outputId": "e40612f4-5488-4b87-b471-55c17c120cdb"
      },
      "execution_count": null,
      "outputs": [
        {
          "output_type": "display_data",
          "data": {
            "text/plain": [
              "<Figure size 640x480 with 1 Axes>"
            ],
            "image/png": "[encoded data removed]"
          },
          "metadata": {}
        }
      ]
    },
    {
      "cell_type": "markdown",
      "source": [
        "**Food Prep Time:**\n",
        "- According to the boxplot for this variable, the time it takes to prepare an order is normally distributed. For all orders, the difference between the longest prep time and the shortest prep time is only 15 minutes, meaning that the data seems to be quite consistent without any outliers. The average prep time is around **27 minutes**, the 25th percentile is **23 minutes**, the median is **27 minutes**, and the 75th percentile is **31 minutes**."
      ],
      "metadata": {
        "id": "jWKrhMWCt8wc"
      }
    },
    {
      "cell_type": "code",
      "source": [
        "sns.histplot(data=df, x = 'delivery_time')\n",
        "plt.show()"
      ],
      "metadata": {
        "colab": {
          "base_uri": "https://localhost:8080/",
          "height": 450
        },
        "id": "BgLAuyxJYGgy",
        "outputId": "d45db1ea-d67b-41be-c7e5-b01117c0af73"
      },
      "execution_count": null,
      "outputs": [
        {
          "output_type": "display_data",
          "data": {
            "text/plain": [
              "<Figure size 640x480 with 1 Axes>"
            ],
            "image/png": "[encoded data removed]"
          },
          "metadata": {}
        }
      ]
    },
    {
      "cell_type": "code",
      "source": [
        "sns.boxplot(data=df, x = 'delivery_time')\n",
        "plt.show()\n",
        "#Boxplot to show slightly left skew"
      ],
      "metadata": {
        "colab": {
          "base_uri": "https://localhost:8080/",
          "height": 450
        },
        "id": "D-w_90zwYPz3",
        "outputId": "6da675ce-5451-406f-8868-2665b06d5f95"
      },
      "execution_count": null,
      "outputs": [
        {
          "output_type": "display_data",
          "data": {
            "text/plain": [
              "<Figure size 640x480 with 1 Axes>"
            ],
            "image/png": "[encoded data removed]"
          },
          "metadata": {}
        }
      ]
    },
    {
      "cell_type": "markdown",
      "source": [
        "**Food Delivery Time:**\n",
        "- Similar to food prep time, the time it takes to deliver an order is also normally distributed (possibly very slightly left skewed). The average delivery time is about 24 minutes, the 25th percentile is **20 minutes**, the median is **25 minutes**, and the 75th percentile is **28 minutes**.\n",
        "\n",
        "\n"
      ],
      "metadata": {
        "id": "EdMqrPUND6Xy"
      }
    },
    {
      "cell_type": "markdown",
      "metadata": {
        "id": "K9CqA5H_JY_U"
      },
      "source": [
        "### **Question 7**: Which are the top 5 restaurants in terms of the number of orders received? [1 mark]"
      ]
    },
    {
      "cell_type": "code",
      "execution_count": null,
      "metadata": {
        "id": "PaJZ3wlOJY_U",
        "colab": {
          "base_uri": "https://localhost:8080/"
        },
        "outputId": "3aff2e56-59a3-4d42-dade-6a53253784ba"
      },
      "outputs": [
        {
          "output_type": "execute_result",
          "data": {
            "text/plain": [
              "Shake Shack                  219\n",
              "The Meatball Shop            132\n",
              "Blue Ribbon Sushi            119\n",
              "Blue Ribbon Fried Chicken     96\n",
              "Parm                          68\n",
              "                            ... \n",
              "Sushi Choshi                   1\n",
              "Dos Caminos Soho               1\n",
              "La Follia                      1\n",
              "Philippe Chow                  1\n",
              "'wichcraft                     1\n",
              "Name: restaurant_name, Length: 178, dtype: int64"
            ]
          },
          "metadata": {},
          "execution_count": 128
        }
      ],
      "source": [
        "df['restaurant_name'].value_counts()\n",
        "#Pulls 5 most frequent restaurant names"
      ]
    },
    {
      "cell_type": "markdown",
      "metadata": {
        "id": "tnjhWgUfJY_U"
      },
      "source": [
        "#### Observations: In terms of orders received, the top 5 restaurants are **Shake Shack** (219 orders), **The Meatball Shop** (132 orders), **Blue Ribbon Sushi** (119 orders), **Blue Ribbon Fried Chicken** (96 orders), and **Parm** (68 orders).\n"
      ]
    },
    {
      "cell_type": "markdown",
      "metadata": {
        "id": "gWPMqGq0JY_U"
      },
      "source": [
        "### **Question 8**: Which is the most popular cuisine on weekends? [1 mark]"
      ]
    },
    {
      "cell_type": "code",
      "execution_count": null,
      "metadata": {
        "id": "c-Xnus3VJY_U",
        "colab": {
          "base_uri": "https://localhost:8080/"
        },
        "outputId": "691e10b2-829a-40c0-e454-7bbdc8a14f17"
      },
      "outputs": [
        {
          "output_type": "execute_result",
          "data": {
            "text/plain": [
              "American          415\n",
              "Japanese          335\n",
              "Italian           207\n",
              "Chinese           163\n",
              "Mexican            53\n",
              "Indian             49\n",
              "Mediterranean      32\n",
              "Middle Eastern     32\n",
              "Thai               15\n",
              "French             13\n",
              "Korean             11\n",
              "Southern           11\n",
              "Spanish            11\n",
              "Vietnamese          4\n",
              "Name: cuisine_type, dtype: int64"
            ]
          },
          "metadata": {},
          "execution_count": 129
        }
      ],
      "source": [
        "df_weekends = df[df['day_of_the_week'] == 'Weekend']\n",
        "#df_weekends only contains Weekend data\n",
        "df_weekends['cuisine_type'].value_counts()"
      ]
    },
    {
      "cell_type": "markdown",
      "metadata": {
        "id": "bpQ270TUJY_U"
      },
      "source": [
        "#### Observations: The most popular type of cuisine on the weekend is **American food** (415 orders).\n"
      ]
    },
    {
      "cell_type": "markdown",
      "metadata": {
        "id": "88xgTqkxJY_U"
      },
      "source": [
        "### **Question 9**: What percentage of the orders cost more than 20 dollars? [2 marks]"
      ]
    },
    {
      "cell_type": "code",
      "execution_count": null,
      "metadata": {
        "id": "OTpHyTdzJY_U",
        "colab": {
          "base_uri": "https://localhost:8080/"
        },
        "outputId": "688cca95-6126-4386-ace4-57a88a078678"
      },
      "outputs": [
        {
          "output_type": "stream",
          "name": "stdout",
          "text": [
            "The percentage of orders that cost more than 20 dollars is: 29.24 %\n"
          ]
        }
      ],
      "source": [
        "df_more_than_20 = df[df['cost_of_the_order']>20]\n",
        "percent = (df_more_than_20.shape[0] / df.shape[0]) * 100\n",
        "#Output is percent of total costs that are more than $20\n",
        "print(\"The percentage of orders that cost more than 20 dollars is:\", round(percent,2), '%')"
      ]
    },
    {
      "cell_type": "markdown",
      "metadata": {
        "id": "77KNAC5zJY_U"
      },
      "source": [
        "#### Observations: The percentage of orders that cost more than 20 dollars is **29.24%**.\n"
      ]
    },
    {
      "cell_type": "markdown",
      "metadata": {
        "id": "HFyHn7hsJY_V"
      },
      "source": [
        "### **Question 10**: What is the mean order delivery time? [1 mark]"
      ]
    },
    {
      "cell_type": "code",
      "execution_count": null,
      "metadata": {
        "id": "cyFL13hNJY_V",
        "colab": {
          "base_uri": "https://localhost:8080/"
        },
        "outputId": "7875092a-b21b-4d3e-e08c-b02b595eedda"
      },
      "outputs": [
        {
          "output_type": "stream",
          "name": "stdout",
          "text": [
            "The mean order delivery time is 24.16 minutes\n"
          ]
        }
      ],
      "source": [
        "mean_delivery_time = df['delivery_time'].mean()\n",
        "print('The mean order delivery time is', round(mean_delivery_time, 2), 'minutes')"
      ]
    },
    {
      "cell_type": "markdown",
      "metadata": {
        "id": "F35SRV-HJY_V"
      },
      "source": [
        "#### Observations: The mean order delivery time is **24.16 minutes**.\n"
      ]
    },
    {
      "cell_type": "markdown",
      "metadata": {
        "id": "48IjaOuDJY_V"
      },
      "source": [
        "### **Question 11:** The company has decided to give 20% discount vouchers to the top 3 most frequent customers. Find the IDs of these customers and the number of orders they placed. [1 mark]"
      ]
    },
    {
      "cell_type": "code",
      "execution_count": null,
      "metadata": {
        "id": "Hz8-DE4Zge0j",
        "colab": {
          "base_uri": "https://localhost:8080/"
        },
        "outputId": "0670cc5c-c60c-4eb4-db27-cd6be5502451"
      },
      "outputs": [
        {
          "output_type": "execute_result",
          "data": {
            "text/plain": [
              "52832    13\n",
              "47440    10\n",
              "83287     9\n",
              "Name: customer_id, dtype: int64"
            ]
          },
          "metadata": {},
          "execution_count": 132
        }
      ],
      "source": [
        "df['customer_id'].value_counts().head(3)\n",
        "#head(3) pulls the top 3 customers"
      ]
    },
    {
      "cell_type": "markdown",
      "metadata": {
        "id": "9tWVwfX6JY_V"
      },
      "source": [
        "#### Observations: The 3 most frequent customers that will receive the 20% discount are **Customer 52832** (13 orders), **Customer 47440** (10 orders), and **Customer 83287** (9 orders).\n"
      ]
    },
    {
      "cell_type": "markdown",
      "metadata": {
        "id": "AfIc2jPaJY_V"
      },
      "source": [
        "### Multivariate Analysis"
      ]
    },
    {
      "cell_type": "markdown",
      "metadata": {
        "id": "iqiS0RT_JY_V"
      },
      "source": [
        "### **Question 12**: Perform a multivariate analysis to explore relationships between the important variables in the dataset. (It is a good idea to explore relations between numerical variables as well as relations between numerical and categorical variables) [10 marks]\n"
      ]
    },
    {
      "cell_type": "code",
      "execution_count": null,
      "metadata": {
        "id": "3qt4MCNTJY_V",
        "colab": {
          "base_uri": "https://localhost:8080/",
          "height": 579
        },
        "outputId": "8ef7a5dc-cf97-4cc4-e1d4-c6078f27573e"
      },
      "outputs": [
        {
          "output_type": "display_data",
          "data": {
            "text/plain": [
              "<Figure size 640x480 with 2 Axes>"
            ],
            "image/png": "[encoded data removed]"
          },
          "metadata": {}
        }
      ],
      "source": [
        "#Start with looking for correlation for any initial insights\n",
        "col_list = ['cost_of_the_order', 'food_preparation_time', 'delivery_time']\n",
        "sns.heatmap(df[col_list].corr(), annot = True, vmin = -1, vmax = 1, cmap = \"Spectral\")\n",
        "plt.show()"
      ]
    },
    {
      "cell_type": "markdown",
      "source": [
        "**Correlation:** There does not seem to be a strong correlation between cost of the order, food prep time, and delivery time\n"
      ],
      "metadata": {
        "id": "-jyTxVd3wZrP"
      }
    },
    {
      "cell_type": "code",
      "source": [
        "#Most successful restaurants\n",
        "df.groupby(['restaurant_name'])['cost_of_the_order'].sum().sort_values(ascending = False).head(10)"
      ],
      "metadata": {
        "colab": {
          "base_uri": "https://localhost:8080/"
        },
        "id": "Ynw298UKCg0o",
        "outputId": "79359a4b-a493-4e1b-fb6b-947f8c1567ef"
      },
      "execution_count": null,
      "outputs": [
        {
          "output_type": "execute_result",
          "data": {
            "text/plain": [
              "restaurant_name\n",
              "Shake Shack                      3579.53\n",
              "The Meatball Shop                2145.21\n",
              "Blue Ribbon Sushi                1903.95\n",
              "Blue Ribbon Fried Chicken        1662.29\n",
              "Parm                             1112.76\n",
              "RedFarm Broadway                  965.13\n",
              "RedFarm Hudson                    921.21\n",
              "TAO                               834.50\n",
              "Han Dynasty                       755.29\n",
              "Blue Ribbon Sushi Bar & Grill     666.62\n",
              "Name: cost_of_the_order, dtype: float64"
            ]
          },
          "metadata": {},
          "execution_count": 134
        }
      ]
    },
    {
      "cell_type": "markdown",
      "source": [
        "**Restauraunt Names and Total Order Costs:** After looking at the gross revenue from each restaurant, it is clear that Shake Shack is benefiting the most from FoodHub. Not only do they represent the majority of orders on the platform, but they earned $1,434.32 more than the next best-performing restaurant (The Meatball Shop)."
      ],
      "metadata": {
        "id": "Lxngba7fChOI"
      }
    },
    {
      "cell_type": "code",
      "source": [
        "#Relation between Cost of the Order and Cuisine\n",
        "plt.figure(figsize=(10,7))\n",
        "sns.boxplot(x = \"cuisine_type\", y = \"cost_of_the_order\", data = df)\n",
        "plt.xticks(rotation = 90)\n",
        "plt.show()"
      ],
      "metadata": {
        "colab": {
          "base_uri": "https://localhost:8080/",
          "height": 591
        },
        "id": "6GIYHIVMx9oW",
        "outputId": "ba881881-00da-48e3-d644-414f03c670f2"
      },
      "execution_count": null,
      "outputs": [
        {
          "output_type": "display_data",
          "data": {
            "text/plain": [
              "<Figure size 1000x700 with 1 Axes>"
            ],
            "image/png": "[encoded data removed]"
          },
          "metadata": {}
        }
      ]
    },
    {
      "cell_type": "markdown",
      "source": [
        "**Cost of the Order and Cuisine:** The highest cost of an order is from Mediterranean cusisine, and the lowest was a Japanese order. The highest median cost comes from French food. The most variance in cost comes from Southern food. In terms of outliers, there seems to be a handful from both Korean food and Mediterranean food, with 1 in Vietnamese orders. Overall, boxplots give us a sense of how different cusisine orders are ususally priced and how cost varies between them."
      ],
      "metadata": {
        "id": "o9gRnrkuzmEQ"
      }
    },
    {
      "cell_type": "code",
      "source": [
        "#Relation between Food Prep Time and Cuisine\n",
        "plt.figure(figsize=(10,7))\n",
        "sns.boxplot(x = \"cuisine_type\", y = \"food_preparation_time\", data = df)\n",
        "plt.xticks(rotation = 90)\n",
        "plt.show()"
      ],
      "metadata": {
        "colab": {
          "base_uri": "https://localhost:8080/",
          "height": 591
        },
        "id": "Kf1-txJ54wnJ",
        "outputId": "09381c6e-e4b0-49a5-989f-2d1ba236f937"
      },
      "execution_count": null,
      "outputs": [
        {
          "output_type": "display_data",
          "data": {
            "text/plain": [
              "<Figure size 1000x700 with 1 Axes>"
            ],
            "image/png": "[encoded data removed]"
          },
          "metadata": {}
        }
      ]
    },
    {
      "cell_type": "markdown",
      "source": [
        "**Food Prep Time and Cuisine:** This boxplot depicts how long it takes to prepare orders from each cuisine type. As mentioned before, across the data, the food preparation time across all orders only varies about 15 minutes. We see this prevelant across all cuisines except Korean, Middle Eastern, Thai, French, and Vietnamese. For Korean cusine, for example, customers can expect their orders to be prepared within 20 to 29 minutes which shows the most costistent prep time (barring 2 outliers). Additionally, it is safe to assume that Cuisine type and delivery time have no relation due to the fact that this does not affect the delivery driver's ability to complete the order any faster/slower."
      ],
      "metadata": {
        "id": "tgAH4uZ74w9P"
      }
    },
    {
      "cell_type": "code",
      "source": [
        "#Relation between Cost of the Order and Rating\n",
        "plt.figure(figsize=(10,7))\n",
        "sns.catplot(x = 'rating', y = 'cost_of_the_order', data = df)\n",
        "sns.boxplot(x = 'rating', y = 'cost_of_the_order', data = df)\n",
        "plt.show()"
      ],
      "metadata": {
        "colab": {
          "base_uri": "https://localhost:8080/",
          "height": 524
        },
        "id": "Da-izIyi1M3a",
        "outputId": "20390b29-ec0a-48ce-c2ed-90c6e97136f5"
      },
      "execution_count": null,
      "outputs": [
        {
          "output_type": "display_data",
          "data": {
            "text/plain": [
              "<Figure size 1000x700 with 0 Axes>"
            ]
          },
          "metadata": {}
        },
        {
          "output_type": "display_data",
          "data": {
            "text/plain": [
              "<Figure size 500x500 with 1 Axes>"
            ],
            "image/png": "[encoded data removed]"
          },
          "metadata": {}
        }
      ]
    },
    {
      "cell_type": "markdown",
      "source": [
        "**Cost of the Order and Rating:** Since most of the orders did not receive a rating, it might not make sense to draw definitive conclusions about the relation here. However, according to the plots above, it seems that the majority of the 5-star ratings come from more expensive orders (median is the highest out of all ratings)."
      ],
      "metadata": {
        "id": "iLFs3CVI1NJu"
      }
    },
    {
      "cell_type": "code",
      "source": [
        "#Relation between Food Prep Time and Rating\n",
        "plt.figure(figsize=(10,7))\n",
        "sns.pointplot(x = 'rating', y = 'food_preparation_time', data = df)\n",
        "plt.show()"
      ],
      "metadata": {
        "colab": {
          "base_uri": "https://localhost:8080/",
          "height": 509
        },
        "id": "HvJIzyQI8V5h",
        "outputId": "d90bc335-f763-46e8-c2be-c178a1d1516c"
      },
      "execution_count": null,
      "outputs": [
        {
          "output_type": "display_data",
          "data": {
            "text/plain": [
              "<Figure size 1000x700 with 1 Axes>"
            ],
            "image/png": "[encoded data removed]"
          },
          "metadata": {}
        }
      ]
    },
    {
      "cell_type": "markdown",
      "source": [
        "**Food Prep Time and Rating:** Negating the orders with no ratings given, the orders with the smallest variance in prep time received the highest ratings. \"3-star\" ratings showed the highest amount of prep time, which could indicate that customers drop the rating when they wait longer. Interestingly enough, this was also true for shortest prep time. Overall, due to the majority orders not receiving a rating and the common variance of prep time only being within a few minutes, it might not make sense to use the rating variable when trying to improve the customer experience."
      ],
      "metadata": {
        "id": "FzMhWlCF8Wmp"
      }
    },
    {
      "cell_type": "code",
      "source": [
        "#Relation between Food Delivery Time and Rating\n",
        "plt.figure(figsize=(10,7))\n",
        "sns.pointplot(x = 'rating', y = 'delivery_time', data = df)\n",
        "plt.show()"
      ],
      "metadata": {
        "colab": {
          "base_uri": "https://localhost:8080/",
          "height": 505
        },
        "id": "vmUzuZxU_8VI",
        "outputId": "c2399a80-858c-4421-dba4-801782efb4d4"
      },
      "execution_count": null,
      "outputs": [
        {
          "output_type": "display_data",
          "data": {
            "text/plain": [
              "<Figure size 1000x700 with 1 Axes>"
            ],
            "image/png": "[encoded data removed]"
          },
          "metadata": {}
        }
      ]
    },
    {
      "cell_type": "markdown",
      "source": [
        "**Food Delivery Time and Rating:** Following the relation of prep time vs raing, we see that the \"3-star\" ratings had the highest delivery times. When customers wait a while for their orders to be delivered, their experience with ordering from FoodHub is not as positive. Based on the data provided on ratings, it it safe to assume that the longer the customer waits, the lower the order satisfaction is as well (barring the orders that did not give a rating)."
      ],
      "metadata": {
        "id": "3nfujxZo_8Bk"
      }
    },
    {
      "cell_type": "code",
      "source": [
        "#Relation between Day of the Week and Delivery Time\n",
        "plt.figure(figsize=(10,7))\n",
        "sns.pointplot(x = 'day_of_the_week', y = 'delivery_time', data = df)\n",
        "plt.show()"
      ],
      "metadata": {
        "colab": {
          "base_uri": "https://localhost:8080/",
          "height": 517
        },
        "id": "TMb8ZEHQBB6Z",
        "outputId": "410ac577-5fb8-4073-d309-a6ac34e7bc01"
      },
      "execution_count": null,
      "outputs": [
        {
          "output_type": "display_data",
          "data": {
            "text/plain": [
              "<Figure size 1000x700 with 1 Axes>"
            ],
            "image/png": "[encoded data removed]"
          },
          "metadata": {}
        }
      ]
    },
    {
      "cell_type": "markdown",
      "source": [
        "**Day of the Food Delivery Time:** After visualizing the relation between day of the week and delivery time, it is safe to say that delivery times significantly spike during weekdays. This can be credited to Lunch Hours and Rush Hours, times in which many people are in commute during and after working hours. This causes delivery drivers to experience more traffic, thus increasing the delivery time on orders."
      ],
      "metadata": {
        "id": "EWV8fKOPBBvu"
      }
    },
    {
      "cell_type": "markdown",
      "metadata": {
        "id": "YLkMf09YJY_V"
      },
      "source": [
        "### **Question 13:** The company wants to provide a promotional offer in the advertisement of the restaurants. The condition to get the offer is that the restaurants must have a rating count of more than 50 and the average rating should be greater than 4. Find the restaurants fulfilling the criteria to get the promotional offer. [3 marks]"
      ]
    },
    {
      "cell_type": "code",
      "execution_count": null,
      "metadata": {
        "id": "0M_QDvbYJY_V",
        "colab": {
          "base_uri": "https://localhost:8080/",
          "height": 204
        },
        "outputId": "cc90985e-4eb0-4322-a249-cf6043e1e2c9"
      },
      "outputs": [
        {
          "output_type": "execute_result",
          "data": {
            "text/plain": [
              "             restaurant_name  rating\n",
              "0                Shake Shack     133\n",
              "1          The Meatball Shop      84\n",
              "2          Blue Ribbon Sushi      73\n",
              "3  Blue Ribbon Fried Chicken      64\n",
              "4           RedFarm Broadway      41"
            ],
            "text/html": [
              "\n",
              "  <div id=\"df-9d4ef5fc-01c6-4fe2-ba7f-b7b62f09de7a\" class=\"colab-df-container\">\n",
              "    <div>\n",
              "<style scoped>\n",
              "    .dataframe tbody tr th:only-of-type {\n",
              "        vertical-align: middle;\n",
              "    }\n",
              "\n",
              "    .dataframe tbody tr th {\n",
              "        vertical-align: top;\n",
              "    }\n",
              "\n",
              "    .dataframe thead th {\n",
              "        text-align: right;\n",
              "    }\n",
              "</style>\n",
              "<table border=\"1\" class=\"dataframe\">\n",
              "  <thead>\n",
              "    <tr style=\"text-align: right;\">\n",
              "      <th></th>\n",
              "      <th>restaurant_name</th>\n",
              "      <th>rating</th>\n",
              "    </tr>\n",
              "  </thead>\n",
              "  <tbody>\n",
              "    <tr>\n",
              "      <th>0</th>\n",
              "      <td>Shake Shack</td>\n",
              "      <td>133</td>\n",
              "    </tr>\n",
              "    <tr>\n",
              "      <th>1</th>\n",
              "      <td>The Meatball Shop</td>\n",
              "      <td>84</td>\n",
              "    </tr>\n",
              "    <tr>\n",
              "      <th>2</th>\n",
              "      <td>Blue Ribbon Sushi</td>\n",
              "      <td>73</td>\n",
              "    </tr>\n",
              "    <tr>\n",
              "      <th>3</th>\n",
              "      <td>Blue Ribbon Fried Chicken</td>\n",
              "      <td>64</td>\n",
              "    </tr>\n",
              "    <tr>\n",
              "      <th>4</th>\n",
              "      <td>RedFarm Broadway</td>\n",
              "      <td>41</td>\n",
              "    </tr>\n",
              "  </tbody>\n",
              "</table>\n",
              "</div>\n",
              "    <div class=\"colab-df-buttons\">\n",
              "\n",
              "  <div class=\"colab-df-container\">\n",
              "    <button class=\"colab-df-convert\" onclick=\"convertToInteractive('df-9d4ef5fc-01c6-4fe2-ba7f-b7b62f09de7a')\"\n",
              "            title=\"Convert this dataframe to an interactive table.\"\n",
              "            style=\"display:none;\">\n",
              "\n",
              "  <svg xmlns=\"http://www.w3.org/2000/svg\" height=\"24px\" viewBox=\"0 -960 960 960\">\n",
              "    <path d=\"M120-120v-720h720v720H120Zm60-500h600v-160H180v160Zm220 220h160v-160H400v160Zm0 220h160v-160H400v160ZM180-400h160v-160H180v160Zm440 0h160v-160H620v160ZM180-180h160v-160H180v160Zm440 0h160v-160H620v160Z\"/>\n",
              "  </svg>\n",
              "    </button>\n",
              "\n",
              "  <style>\n",
              "    .colab-df-container {\n",
              "      display:flex;\n",
              "      gap: 12px;\n",
              "    }\n",
              "\n",
              "    .colab-df-convert {\n",
              "      background-color: #E8F0FE;\n",
              "      border: none;\n",
              "      border-radius: 50%;\n",
              "      cursor: pointer;\n",
              "      display: none;\n",
              "      fill: #1967D2;\n",
              "      height: 32px;\n",
              "      padding: 0 0 0 0;\n",
              "      width: 32px;\n",
              "    }\n",
              "\n",
              "    .colab-df-convert:hover {\n",
              "      background-color: #E2EBFA;\n",
              "      box-shadow: 0px 1px 2px rgba(60, 64, 67, 0.3), 0px 1px 3px 1px rgba(60, 64, 67, 0.15);\n",
              "      fill: #174EA6;\n",
              "    }\n",
              "\n",
              "    .colab-df-buttons div {\n",
              "      margin-bottom: 4px;\n",
              "    }\n",
              "\n",
              "    [theme=dark] .colab-df-convert {\n",
              "      background-color: #3B4455;\n",
              "      fill: #D2E3FC;\n",
              "    }\n",
              "\n",
              "    [theme=dark] .colab-df-convert:hover {\n",
              "      background-color: #434B5C;\n",
              "      box-shadow: 0px 1px 3px 1px rgba(0, 0, 0, 0.15);\n",
              "      filter: drop-shadow(0px 1px 2px rgba(0, 0, 0, 0.3));\n",
              "      fill: #FFFFFF;\n",
              "    }\n",
              "  </style>\n",
              "\n",
              "    <script>\n",
              "      const buttonEl =\n",
              "        document.querySelector('#df-9d4ef5fc-01c6-4fe2-ba7f-b7b62f09de7a button.colab-df-convert');\n",
              "      buttonEl.style.display =\n",
              "        google.colab.kernel.accessAllowed ? 'block' : 'none';\n",
              "\n",
              "      async function convertToInteractive(key) {\n",
              "        const element = document.querySelector('#df-9d4ef5fc-01c6-4fe2-ba7f-b7b62f09de7a');\n",
              "        const dataTable =\n",
              "          await google.colab.kernel.invokeFunction('convertToInteractive',\n",
              "                                                    [key], {});\n",
              "        if (!dataTable) return;\n",
              "\n",
              "        const docLinkHtml = 'Like what you see? Visit the ' +\n",
              "          '<a target=\"_blank\" href=https://colab.research.google.com/notebooks/data_table.ipynb>data table notebook</a>'\n",
              "          + ' to learn more about interactive tables.';\n",
              "        element.innerHTML = '';\n",
              "        dataTable['output_type'] = 'display_data';\n",
              "        await google.colab.output.renderOutput(dataTable, element);\n",
              "        const docLink = document.createElement('div');\n",
              "        docLink.innerHTML = docLinkHtml;\n",
              "        element.appendChild(docLink);\n",
              "      }\n",
              "    </script>\n",
              "  </div>\n",
              "\n",
              "\n",
              "<div id=\"df-38ab6a4a-1fc4-4524-85e8-6de891e79701\">\n",
              "  <button class=\"colab-df-quickchart\" onclick=\"quickchart('df-38ab6a4a-1fc4-4524-85e8-6de891e79701')\"\n",
              "            title=\"Suggest charts.\"\n",
              "            style=\"display:none;\">\n",
              "\n",
              "<svg xmlns=\"http://www.w3.org/2000/svg\" height=\"24px\"viewBox=\"0 0 24 24\"\n",
              "     width=\"24px\">\n",
              "    <g>\n",
              "        <path d=\"M19 3H5c-1.1 0-2 .9-2 2v14c0 1.1.9 2 2 2h14c1.1 0 2-.9 2-2V5c0-1.1-.9-2-2-2zM9 17H7v-7h2v7zm4 0h-2V7h2v10zm4 0h-2v-4h2v4z\"/>\n",
              "    </g>\n",
              "</svg>\n",
              "  </button>\n",
              "\n",
              "<style>\n",
              "  .colab-df-quickchart {\n",
              "      --bg-color: #E8F0FE;\n",
              "      --fill-color: #1967D2;\n",
              "      --hover-bg-color: #E2EBFA;\n",
              "      --hover-fill-color: #174EA6;\n",
              "      --disabled-fill-color: #AAA;\n",
              "      --disabled-bg-color: #DDD;\n",
              "  }\n",
              "\n",
              "  [theme=dark] .colab-df-quickchart {\n",
              "      --bg-color: #3B4455;\n",
              "      --fill-color: #D2E3FC;\n",
              "      --hover-bg-color: #434B5C;\n",
              "      --hover-fill-color: #FFFFFF;\n",
              "      --disabled-bg-color: #3B4455;\n",
              "      --disabled-fill-color: #666;\n",
              "  }\n",
              "\n",
              "  .colab-df-quickchart {\n",
              "    background-color: var(--bg-color);\n",
              "    border: none;\n",
              "    border-radius: 50%;\n",
              "    cursor: pointer;\n",
              "    display: none;\n",
              "    fill: var(--fill-color);\n",
              "    height: 32px;\n",
              "    padding: 0;\n",
              "    width: 32px;\n",
              "  }\n",
              "\n",
              "  .colab-df-quickchart:hover {\n",
              "    background-color: var(--hover-bg-color);\n",
              "    box-shadow: 0 1px 2px rgba(60, 64, 67, 0.3), 0 1px 3px 1px rgba(60, 64, 67, 0.15);\n",
              "    fill: var(--button-hover-fill-color);\n",
              "  }\n",
              "\n",
              "  .colab-df-quickchart-complete:disabled,\n",
              "  .colab-df-quickchart-complete:disabled:hover {\n",
              "    background-color: var(--disabled-bg-color);\n",
              "    fill: var(--disabled-fill-color);\n",
              "    box-shadow: none;\n",
              "  }\n",
              "\n",
              "  .colab-df-spinner {\n",
              "    border: 2px solid var(--fill-color);\n",
              "    border-color: transparent;\n",
              "    border-bottom-color: var(--fill-color);\n",
              "    animation:\n",
              "      spin 1s steps(1) infinite;\n",
              "  }\n",
              "\n",
              "  @keyframes spin {\n",
              "    0% {\n",
              "      border-color: transparent;\n",
              "      border-bottom-color: var(--fill-color);\n",
              "      border-left-color: var(--fill-color);\n",
              "    }\n",
              "    20% {\n",
              "      border-color: transparent;\n",
              "      border-left-color: var(--fill-color);\n",
              "      border-top-color: var(--fill-color);\n",
              "    }\n",
              "    30% {\n",
              "      border-color: transparent;\n",
              "      border-left-color: var(--fill-color);\n",
              "      border-top-color: var(--fill-color);\n",
              "      border-right-color: var(--fill-color);\n",
              "    }\n",
              "    40% {\n",
              "      border-color: transparent;\n",
              "      border-right-color: var(--fill-color);\n",
              "      border-top-color: var(--fill-color);\n",
              "    }\n",
              "    60% {\n",
              "      border-color: transparent;\n",
              "      border-right-color: var(--fill-color);\n",
              "    }\n",
              "    80% {\n",
              "      border-color: transparent;\n",
              "      border-right-color: var(--fill-color);\n",
              "      border-bottom-color: var(--fill-color);\n",
              "    }\n",
              "    90% {\n",
              "      border-color: transparent;\n",
              "      border-bottom-color: var(--fill-color);\n",
              "    }\n",
              "  }\n",
              "</style>\n",
              "\n",
              "  <script>\n",
              "    async function quickchart(key) {\n",
              "      const quickchartButtonEl =\n",
              "        document.querySelector('#' + key + ' button');\n",
              "      quickchartButtonEl.disabled = true;  // To prevent multiple clicks.\n",
              "      quickchartButtonEl.classList.add('colab-df-spinner');\n",
              "      try {\n",
              "        const charts = await google.colab.kernel.invokeFunction(\n",
              "            'suggestCharts', [key], {});\n",
              "      } catch (error) {\n",
              "        console.error('Error during call to suggestCharts:', error);\n",
              "      }\n",
              "      quickchartButtonEl.classList.remove('colab-df-spinner');\n",
              "      quickchartButtonEl.classList.add('colab-df-quickchart-complete');\n",
              "    }\n",
              "    (() => {\n",
              "      let quickchartButtonEl =\n",
              "        document.querySelector('#df-38ab6a4a-1fc4-4524-85e8-6de891e79701 button');\n",
              "      quickchartButtonEl.style.display =\n",
              "        google.colab.kernel.accessAllowed ? 'block' : 'none';\n",
              "    })();\n",
              "  </script>\n",
              "</div>\n",
              "    </div>\n",
              "  </div>\n"
            ]
          },
          "metadata": {},
          "execution_count": 141
        }
      ],
      "source": [
        "#Get rid of orders that did not receive a rating\n",
        "df_rated = df[df['rating'] != 'Not given'].copy()\n",
        "\n",
        "#Since they are all numbers, organize as \"integers\"\n",
        "df_rated['rating'] = df_rated['rating'].astype('int')\n",
        "\n",
        "df_promo = df_rated.groupby(['restaurant_name'])['rating'].count().sort_values(ascending = False).reset_index()\n",
        "df_promo.head()\n",
        "#Shows how many ratings each of the top 5 restaurants"
      ]
    },
    {
      "cell_type": "code",
      "source": [
        "print('The average rating for Shake Shack is:', df_rated[df_rated['restaurant_name'] == 'Shake Shack']['rating'].mean())\n",
        "print('The average rating for The Meatball Shop is:', df_rated[df_rated['restaurant_name'] == 'The Meatball Shop']['rating'].mean())\n",
        "print('The average rating for Blue Ribbon Sushi is:', df_rated[df_rated['restaurant_name'] == 'Blue Ribbon Sushi']['rating'].mean())\n",
        "print('The average rating for Blue Ribbon Fried Chicken is:', df_rated[df_rated['restaurant_name'] == 'Blue Ribbon Fried Chicken']['rating'].mean())"
      ],
      "metadata": {
        "colab": {
          "base_uri": "https://localhost:8080/"
        },
        "id": "9EUXNnb7FoV2",
        "outputId": "e53212dc-135e-4326-bf54-b897e88a4a03"
      },
      "execution_count": null,
      "outputs": [
        {
          "output_type": "stream",
          "name": "stdout",
          "text": [
            "The average rating for Shake Shack is: 4.2781954887218046\n",
            "The average rating for The Meatball Shop is: 4.511904761904762\n",
            "The average rating for Blue Ribbon Sushi is: 4.219178082191781\n",
            "The average rating for Blue Ribbon Fried Chicken is: 4.328125\n"
          ]
        }
      ]
    },
    {
      "cell_type": "markdown",
      "metadata": {
        "id": "10uryUMhJY_V"
      },
      "source": [
        "#### Observations: The restaurants that are eligible for a promotional offer are **Shake Shack**, **The Meatball Shop**, **Blue Ribbon Sushi**, and **Blue Ribbon Fried Chicken**.\n"
      ]
    },
    {
      "cell_type": "markdown",
      "metadata": {
        "id": "1gvWBkRUJY_V"
      },
      "source": [
        "### **Question 14:** The company charges the restaurant 25% on the orders having cost greater than 20 dollars and 15% on the orders having cost greater than 5 dollars. Find the net revenue generated by the company across all orders. [3 marks]"
      ]
    },
    {
      "cell_type": "code",
      "execution_count": null,
      "metadata": {
        "id": "rEjbnTNEJY_W",
        "colab": {
          "base_uri": "https://localhost:8080/",
          "height": 275
        },
        "outputId": "c15e06d2-1654-4acb-a729-9b5f61458254"
      },
      "outputs": [
        {
          "output_type": "execute_result",
          "data": {
            "text/plain": [
              "   order_id  customer_id            restaurant_name cuisine_type  \\\n",
              "0   1477147       337525                    Hangawi       Korean   \n",
              "1   1477685       358141  Blue Ribbon Sushi Izakaya     Japanese   \n",
              "2   1477070        66393                Cafe Habana      Mexican   \n",
              "3   1477334       106968  Blue Ribbon Fried Chicken     American   \n",
              "4   1478249        76942           Dirty Bird to Go     American   \n",
              "\n",
              "   cost_of_the_order day_of_the_week     rating  food_preparation_time  \\\n",
              "0              30.75         Weekend  Not given                     25   \n",
              "1              12.08         Weekend  Not given                     25   \n",
              "2              12.23         Weekday          5                     23   \n",
              "3              29.20         Weekend          3                     25   \n",
              "4              11.59         Weekday          4                     25   \n",
              "\n",
              "   delivery_time  Revenue  \n",
              "0             20   7.6875  \n",
              "1             23   1.8120  \n",
              "2             28   1.8345  \n",
              "3             15   7.3000  \n",
              "4             24   1.7385  "
            ],
            "text/html": [
              "\n",
              "  <div id=\"df-3d2451d7-e004-4777-b93b-7db638ee425b\" class=\"colab-df-container\">\n",
              "    <div>\n",
              "<style scoped>\n",
              "    .dataframe tbody tr th:only-of-type {\n",
              "        vertical-align: middle;\n",
              "    }\n",
              "\n",
              "    .dataframe tbody tr th {\n",
              "        vertical-align: top;\n",
              "    }\n",
              "\n",
              "    .dataframe thead th {\n",
              "        text-align: right;\n",
              "    }\n",
              "</style>\n",
              "<table border=\"1\" class=\"dataframe\">\n",
              "  <thead>\n",
              "    <tr style=\"text-align: right;\">\n",
              "      <th></th>\n",
              "      <th>order_id</th>\n",
              "      <th>customer_id</th>\n",
              "      <th>restaurant_name</th>\n",
              "      <th>cuisine_type</th>\n",
              "      <th>cost_of_the_order</th>\n",
              "      <th>day_of_the_week</th>\n",
              "      <th>rating</th>\n",
              "      <th>food_preparation_time</th>\n",
              "      <th>delivery_time</th>\n",
              "      <th>Revenue</th>\n",
              "    </tr>\n",
              "  </thead>\n",
              "  <tbody>\n",
              "    <tr>\n",
              "      <th>0</th>\n",
              "      <td>1477147</td>\n",
              "      <td>337525</td>\n",
              "      <td>Hangawi</td>\n",
              "      <td>Korean</td>\n",
              "      <td>30.75</td>\n",
              "      <td>Weekend</td>\n",
              "      <td>Not given</td>\n",
              "      <td>25</td>\n",
              "      <td>20</td>\n",
              "      <td>7.6875</td>\n",
              "    </tr>\n",
              "    <tr>\n",
              "      <th>1</th>\n",
              "      <td>1477685</td>\n",
              "      <td>358141</td>\n",
              "      <td>Blue Ribbon Sushi Izakaya</td>\n",
              "      <td>Japanese</td>\n",
              "      <td>12.08</td>\n",
              "      <td>Weekend</td>\n",
              "      <td>Not given</td>\n",
              "      <td>25</td>\n",
              "      <td>23</td>\n",
              "      <td>1.8120</td>\n",
              "    </tr>\n",
              "    <tr>\n",
              "      <th>2</th>\n",
              "      <td>1477070</td>\n",
              "      <td>66393</td>\n",
              "      <td>Cafe Habana</td>\n",
              "      <td>Mexican</td>\n",
              "      <td>12.23</td>\n",
              "      <td>Weekday</td>\n",
              "      <td>5</td>\n",
              "      <td>23</td>\n",
              "      <td>28</td>\n",
              "      <td>1.8345</td>\n",
              "    </tr>\n",
              "    <tr>\n",
              "      <th>3</th>\n",
              "      <td>1477334</td>\n",
              "      <td>106968</td>\n",
              "      <td>Blue Ribbon Fried Chicken</td>\n",
              "      <td>American</td>\n",
              "      <td>29.20</td>\n",
              "      <td>Weekend</td>\n",
              "      <td>3</td>\n",
              "      <td>25</td>\n",
              "      <td>15</td>\n",
              "      <td>7.3000</td>\n",
              "    </tr>\n",
              "    <tr>\n",
              "      <th>4</th>\n",
              "      <td>1478249</td>\n",
              "      <td>76942</td>\n",
              "      <td>Dirty Bird to Go</td>\n",
              "      <td>American</td>\n",
              "      <td>11.59</td>\n",
              "      <td>Weekday</td>\n",
              "      <td>4</td>\n",
              "      <td>25</td>\n",
              "      <td>24</td>\n",
              "      <td>1.7385</td>\n",
              "    </tr>\n",
              "  </tbody>\n",
              "</table>\n",
              "</div>\n",
              "    <div class=\"colab-df-buttons\">\n",
              "\n",
              "  <div class=\"colab-df-container\">\n",
              "    <button class=\"colab-df-convert\" onclick=\"convertToInteractive('df-3d2451d7-e004-4777-b93b-7db638ee425b')\"\n",
              "            title=\"Convert this dataframe to an interactive table.\"\n",
              "            style=\"display:none;\">\n",
              "\n",
              "  <svg xmlns=\"http://www.w3.org/2000/svg\" height=\"24px\" viewBox=\"0 -960 960 960\">\n",
              "    <path d=\"M120-120v-720h720v720H120Zm60-500h600v-160H180v160Zm220 220h160v-160H400v160Zm0 220h160v-160H400v160ZM180-400h160v-160H180v160Zm440 0h160v-160H620v160ZM180-180h160v-160H180v160Zm440 0h160v-160H620v160Z\"/>\n",
              "  </svg>\n",
              "    </button>\n",
              "\n",
              "  <style>\n",
              "    .colab-df-container {\n",
              "      display:flex;\n",
              "      gap: 12px;\n",
              "    }\n",
              "\n",
              "    .colab-df-convert {\n",
              "      background-color: #E8F0FE;\n",
              "      border: none;\n",
              "      border-radius: 50%;\n",
              "      cursor: pointer;\n",
              "      display: none;\n",
              "      fill: #1967D2;\n",
              "      height: 32px;\n",
              "      padding: 0 0 0 0;\n",
              "      width: 32px;\n",
              "    }\n",
              "\n",
              "    .colab-df-convert:hover {\n",
              "      background-color: #E2EBFA;\n",
              "      box-shadow: 0px 1px 2px rgba(60, 64, 67, 0.3), 0px 1px 3px 1px rgba(60, 64, 67, 0.15);\n",
              "      fill: #174EA6;\n",
              "    }\n",
              "\n",
              "    .colab-df-buttons div {\n",
              "      margin-bottom: 4px;\n",
              "    }\n",
              "\n",
              "    [theme=dark] .colab-df-convert {\n",
              "      background-color: #3B4455;\n",
              "      fill: #D2E3FC;\n",
              "    }\n",
              "\n",
              "    [theme=dark] .colab-df-convert:hover {\n",
              "      background-color: #434B5C;\n",
              "      box-shadow: 0px 1px 3px 1px rgba(0, 0, 0, 0.15);\n",
              "      filter: drop-shadow(0px 1px 2px rgba(0, 0, 0, 0.3));\n",
              "      fill: #FFFFFF;\n",
              "    }\n",
              "  </style>\n",
              "\n",
              "    <script>\n",
              "      const buttonEl =\n",
              "        document.querySelector('#df-3d2451d7-e004-4777-b93b-7db638ee425b button.colab-df-convert');\n",
              "      buttonEl.style.display =\n",
              "        google.colab.kernel.accessAllowed ? 'block' : 'none';\n",
              "\n",
              "      async function convertToInteractive(key) {\n",
              "        const element = document.querySelector('#df-3d2451d7-e004-4777-b93b-7db638ee425b');\n",
              "        const dataTable =\n",
              "          await google.colab.kernel.invokeFunction('convertToInteractive',\n",
              "                                                    [key], {});\n",
              "        if (!dataTable) return;\n",
              "\n",
              "        const docLinkHtml = 'Like what you see? Visit the ' +\n",
              "          '<a target=\"_blank\" href=https://colab.research.google.com/notebooks/data_table.ipynb>data table notebook</a>'\n",
              "          + ' to learn more about interactive tables.';\n",
              "        element.innerHTML = '';\n",
              "        dataTable['output_type'] = 'display_data';\n",
              "        await google.colab.output.renderOutput(dataTable, element);\n",
              "        const docLink = document.createElement('div');\n",
              "        docLink.innerHTML = docLinkHtml;\n",
              "        element.appendChild(docLink);\n",
              "      }\n",
              "    </script>\n",
              "  </div>\n",
              "\n",
              "\n",
              "<div id=\"df-78ae5aa1-0bba-41dd-a97c-8600e145cb00\">\n",
              "  <button class=\"colab-df-quickchart\" onclick=\"quickchart('df-78ae5aa1-0bba-41dd-a97c-8600e145cb00')\"\n",
              "            title=\"Suggest charts.\"\n",
              "            style=\"display:none;\">\n",
              "\n",
              "<svg xmlns=\"http://www.w3.org/2000/svg\" height=\"24px\"viewBox=\"0 0 24 24\"\n",
              "     width=\"24px\">\n",
              "    <g>\n",
              "        <path d=\"M19 3H5c-1.1 0-2 .9-2 2v14c0 1.1.9 2 2 2h14c1.1 0 2-.9 2-2V5c0-1.1-.9-2-2-2zM9 17H7v-7h2v7zm4 0h-2V7h2v10zm4 0h-2v-4h2v4z\"/>\n",
              "    </g>\n",
              "</svg>\n",
              "  </button>\n",
              "\n",
              "<style>\n",
              "  .colab-df-quickchart {\n",
              "      --bg-color: #E8F0FE;\n",
              "      --fill-color: #1967D2;\n",
              "      --hover-bg-color: #E2EBFA;\n",
              "      --hover-fill-color: #174EA6;\n",
              "      --disabled-fill-color: #AAA;\n",
              "      --disabled-bg-color: #DDD;\n",
              "  }\n",
              "\n",
              "  [theme=dark] .colab-df-quickchart {\n",
              "      --bg-color: #3B4455;\n",
              "      --fill-color: #D2E3FC;\n",
              "      --hover-bg-color: #434B5C;\n",
              "      --hover-fill-color: #FFFFFF;\n",
              "      --disabled-bg-color: #3B4455;\n",
              "      --disabled-fill-color: #666;\n",
              "  }\n",
              "\n",
              "  .colab-df-quickchart {\n",
              "    background-color: var(--bg-color);\n",
              "    border: none;\n",
              "    border-radius: 50%;\n",
              "    cursor: pointer;\n",
              "    display: none;\n",
              "    fill: var(--fill-color);\n",
              "    height: 32px;\n",
              "    padding: 0;\n",
              "    width: 32px;\n",
              "  }\n",
              "\n",
              "  .colab-df-quickchart:hover {\n",
              "    background-color: var(--hover-bg-color);\n",
              "    box-shadow: 0 1px 2px rgba(60, 64, 67, 0.3), 0 1px 3px 1px rgba(60, 64, 67, 0.15);\n",
              "    fill: var(--button-hover-fill-color);\n",
              "  }\n",
              "\n",
              "  .colab-df-quickchart-complete:disabled,\n",
              "  .colab-df-quickchart-complete:disabled:hover {\n",
              "    background-color: var(--disabled-bg-color);\n",
              "    fill: var(--disabled-fill-color);\n",
              "    box-shadow: none;\n",
              "  }\n",
              "\n",
              "  .colab-df-spinner {\n",
              "    border: 2px solid var(--fill-color);\n",
              "    border-color: transparent;\n",
              "    border-bottom-color: var(--fill-color);\n",
              "    animation:\n",
              "      spin 1s steps(1) infinite;\n",
              "  }\n",
              "\n",
              "  @keyframes spin {\n",
              "    0% {\n",
              "      border-color: transparent;\n",
              "      border-bottom-color: var(--fill-color);\n",
              "      border-left-color: var(--fill-color);\n",
              "    }\n",
              "    20% {\n",
              "      border-color: transparent;\n",
              "      border-left-color: var(--fill-color);\n",
              "      border-top-color: var(--fill-color);\n",
              "    }\n",
              "    30% {\n",
              "      border-color: transparent;\n",
              "      border-left-color: var(--fill-color);\n",
              "      border-top-color: var(--fill-color);\n",
              "      border-right-color: var(--fill-color);\n",
              "    }\n",
              "    40% {\n",
              "      border-color: transparent;\n",
              "      border-right-color: var(--fill-color);\n",
              "      border-top-color: var(--fill-color);\n",
              "    }\n",
              "    60% {\n",
              "      border-color: transparent;\n",
              "      border-right-color: var(--fill-color);\n",
              "    }\n",
              "    80% {\n",
              "      border-color: transparent;\n",
              "      border-right-color: var(--fill-color);\n",
              "      border-bottom-color: var(--fill-color);\n",
              "    }\n",
              "    90% {\n",
              "      border-color: transparent;\n",
              "      border-bottom-color: var(--fill-color);\n",
              "    }\n",
              "  }\n",
              "</style>\n",
              "\n",
              "  <script>\n",
              "    async function quickchart(key) {\n",
              "      const quickchartButtonEl =\n",
              "        document.querySelector('#' + key + ' button');\n",
              "      quickchartButtonEl.disabled = true;  // To prevent multiple clicks.\n",
              "      quickchartButtonEl.classList.add('colab-df-spinner');\n",
              "      try {\n",
              "        const charts = await google.colab.kernel.invokeFunction(\n",
              "            'suggestCharts', [key], {});\n",
              "      } catch (error) {\n",
              "        console.error('Error during call to suggestCharts:', error);\n",
              "      }\n",
              "      quickchartButtonEl.classList.remove('colab-df-spinner');\n",
              "      quickchartButtonEl.classList.add('colab-df-quickchart-complete');\n",
              "    }\n",
              "    (() => {\n",
              "      let quickchartButtonEl =\n",
              "        document.querySelector('#df-78ae5aa1-0bba-41dd-a97c-8600e145cb00 button');\n",
              "      quickchartButtonEl.style.display =\n",
              "        google.colab.kernel.accessAllowed ? 'block' : 'none';\n",
              "    })();\n",
              "  </script>\n",
              "</div>\n",
              "    </div>\n",
              "  </div>\n"
            ]
          },
          "metadata": {},
          "execution_count": 143
        }
      ],
      "source": [
        "#Revenue function\n",
        "def compute_rev(x):\n",
        "  if x > 20:\n",
        "    return x*0.25\n",
        "  elif x > 5:\n",
        "    return x*0.15\n",
        "  else:\n",
        "    return x*0\n",
        "\n",
        "df['Revenue'] = df['cost_of_the_order'].apply(compute_rev)\n",
        "df.head()"
      ]
    },
    {
      "cell_type": "code",
      "source": [
        "all_orders = df['Revenue'].sum()\n",
        "print('Net revenue generated across all orders is', round(all_orders, 2), 'dollars')"
      ],
      "metadata": {
        "colab": {
          "base_uri": "https://localhost:8080/"
        },
        "id": "fVygrpHrPKK0",
        "outputId": "f0f15be5-e214-4fc8-e08c-45996799c123"
      },
      "execution_count": null,
      "outputs": [
        {
          "output_type": "stream",
          "name": "stdout",
          "text": [
            "Net revenue generated across all orders is 6166.3 dollars\n"
          ]
        }
      ]
    },
    {
      "cell_type": "markdown",
      "metadata": {
        "id": "XHCEJgH0JY_W"
      },
      "source": [
        "#### Observations: The net revenue generated by the company across all orders is **$6,166.30.**\n"
      ]
    },
    {
      "cell_type": "markdown",
      "metadata": {
        "id": "pRlVW-oeJY_W"
      },
      "source": [
        "### **Question 15:** The company wants to analyze the total time required to deliver the food. What percentage of orders take more than 60 minutes to get delivered from the time the order is placed? (The food has to be prepared and then delivered.) [2 marks]"
      ]
    },
    {
      "cell_type": "code",
      "execution_count": null,
      "metadata": {
        "id": "zxoTrxfLJY_W",
        "colab": {
          "base_uri": "https://localhost:8080/"
        },
        "outputId": "e71fafef-2bac-4525-d1ab-1bd31dc6d810"
      },
      "outputs": [
        {
          "output_type": "stream",
          "name": "stdout",
          "text": [
            "The percentage of orders that take more than 60 minutes to get delivered is: 10.54 %\n"
          ]
        }
      ],
      "source": [
        "df['total_time'] = df['food_preparation_time'] + df['delivery_time']\n",
        "df_greater_than_60 = df[df['total_time']>60]\n",
        "percentage_time = (df_greater_than_60.shape[0] / df.shape[0]) * 100\n",
        "print(\"The percentage of orders that take more than 60 minutes to get delivered is:\", round(percentage_time,2), '%')"
      ]
    },
    {
      "cell_type": "markdown",
      "metadata": {
        "id": "iqzBXn2yJY_W"
      },
      "source": [
        "#### Observations:The percentage of orders that take more than 60 minutes to get delivered is **10.54%.**\n"
      ]
    },
    {
      "cell_type": "markdown",
      "metadata": {
        "id": "bUd6cYpPJY_W"
      },
      "source": [
        "### **Question 16:** The company wants to analyze the delivery time of the orders on weekdays and weekends. How does the mean delivery time vary during weekdays and weekends? [2 marks]"
      ]
    },
    {
      "cell_type": "code",
      "execution_count": null,
      "metadata": {
        "id": "pIU5xZZ6JY_W",
        "colab": {
          "base_uri": "https://localhost:8080/"
        },
        "outputId": "00f435d2-3795-44a2-decb-7bb3fa14613e"
      },
      "outputs": [
        {
          "output_type": "stream",
          "name": "stdout",
          "text": [
            "Mean delivery time on Weekdays: 28 minutes\n",
            "Mean delivery time on Weekends: 22 minutes\n"
          ]
        }
      ],
      "source": [
        "print('Mean delivery time on Weekdays:', round(df[df['day_of_the_week'] == 'Weekday']['delivery_time'].mean()),'minutes')\n",
        "print('Mean delivery time on Weekends:', round(df[df['day_of_the_week'] == 'Weekend']['delivery_time'].mean()),'minutes')"
      ]
    },
    {
      "cell_type": "markdown",
      "metadata": {
        "id": "8H-ODxbVJY_W"
      },
      "source": [
        "#### Observations: The average delivery time on Weekends is **4 minutes less** than on Weekdays.\n"
      ]
    },
    {
      "cell_type": "markdown",
      "metadata": {
        "id": "17roJywaJY_W"
      },
      "source": [
        "### Conclusion and Recommendations"
      ]
    },
    {
      "cell_type": "markdown",
      "metadata": {
        "id": "ZdX2Wz4FJY_W"
      },
      "source": [
        "### **Question 17:** What are your conclusions from the analysis? What recommendations would you like to share to help improve the business? (You can use cuisine type and feedback ratings to drive your business recommendations.) [6 marks]"
      ]
    },
    {
      "cell_type": "markdown",
      "metadata": {
        "id": "VTugVsL4Ddz-"
      },
      "source": [
        "### Conclusions:\n",
        "*  In Conclusion, I believe that American, Japanese, Itallian, and Chinese restaurants represent a massive portion of FoodHub's orders. After looking into the top performing restaurants on the platform, it is clear that Shake Shack is the clear favorite amongst customers. The most common orders for orders that receive positive ratings are on the Weekends due to the longer wait times that come from Weekdays. Additionally, the time it takes to prepare the food does not have a major impact on the customer experience due to the small variance. However, the shorter delivery times on the Weekends can credit to more 5-star ratings since customers can receive their food quicker. The lack of ratings does hinder the relevancy of how other variables can improve the customer experience, but nonetheless, there were no ratings below a 3 (which is great news)."
      ]
    },
    {
      "cell_type": "markdown",
      "metadata": {
        "id": "PWnsI0i_guWJ"
      },
      "source": [
        "### Recommendations:\n",
        "\n",
        "- My first reccomendation would be to run more promotions for customers and advertising promotions for restaurants on the weekends. It is clear that this is a popular time to order on FoodHub, as it represented 71% of orders in the data. This will not only generate more ad revenue from restaurants, but also even more orders even if the discount is small.\n",
        "\n",
        "- My second reccomendation would be to prioritize Shake Shack with promotions slightly more than others. Not only will this help Shake Shack generate more revenue for their restaurants, but since they have the largest share of customers (and ratings), this will also generate more net revenue for FoodHub. This will also reflect positively on the customers, who may be more apt to leave a rating.\n",
        "\n",
        "- Lastly, the best way to quantify the customer experience is when a customer leaves a rating. Unfortunately, the majority of the data did not have a review attached to the order ID. A way to further quantify this would be an additional column labeled \"Most Popular Dish\", where customers can rate their specific menu item. This is common with most food delivery platforms, where new customers can see what menu item is either the most popular or trending. It can be difficult to quantify if the customer enjoyed the services of Foodhub if the entire experience cannot be collected via rating. By rating each item they ordered out of 5 (or even a thumbs up or down), not only will this help with collecting more data on customer satisfaction for other customers to see, but it will also supplement the strategic efforts of choosing what item to promote at a specific restaurant."
      ]
    },
    {
      "cell_type": "code",
      "source": [
        "!jupyter nbconvert --execute --to html \"/content/PYF_Project_LearnerNotebook_FullCode-2.ipynb\""
      ],
      "metadata": {
        "colab": {
          "base_uri": "https://localhost:8080/"
        },
        "id": "AI6WJ20LqMVM",
        "outputId": "1179782d-fa40-42ff-9a68-5777655f38fb"
      },
      "execution_count": null,
      "outputs": [
        {
          "output_type": "stream",
          "name": "stdout",
          "text": [
            "Traceback (most recent call last):\n",
            "  File \"/usr/lib/python3.10/asyncio/base_events.py\", line 636, in run_until_complete\n",
            "    self.run_forever()\n",
            "  File \"/usr/lib/python3.10/asyncio/base_events.py\", line 603, in run_forever\n",
            "    self._run_once()\n",
            "  File \"/usr/lib/python3.10/asyncio/base_events.py\", line 1871, in _run_once\n",
            "    event_list = self._selector.select(timeout)\n",
            "  File \"/usr/lib/python3.10/selectors.py\", line 469, in select\n",
            "    fd_event_list = self._selector.poll(timeout, max_ev)\n",
            "KeyboardInterrupt\n",
            "\n",
            "During handling of the above exception, another exception occurred:\n",
            "\n",
            "Traceback (most recent call last):\n",
            "  File \"/usr/local/bin/jupyter-nbconvert\", line 8, in <module>\n",
            "    sys.exit(main())\n",
            "  File \"/usr/local/lib/python3.10/dist-packages/jupyter_core/application.py\", line 285, in launch_instance\n",
            "    return super().launch_instance(argv=argv, **kwargs)\n",
            "  File \"/usr/local/lib/python3.10/dist-packages/traitlets/config/application.py\", line 992, in launch_instance\n",
            "    app.start()\n",
            "  File \"/usr/local/lib/python3.10/dist-packages/nbconvert/nbconvertapp.py\", line 423, in start\n",
            "    self.convert_notebooks()\n",
            "  File \"/usr/local/lib/python3.10/dist-packages/nbconvert/nbconvertapp.py\", line 597, in convert_notebooks\n",
            "    self.convert_single_notebook(notebook_filename)\n",
            "  File \"/usr/local/lib/python3.10/dist-packages/nbconvert/nbconvertapp.py\", line 560, in convert_single_notebook\n",
            "    output, resources = self.export_single_notebook(\n",
            "  File \"/usr/local/lib/python3.10/dist-packages/nbconvert/nbconvertapp.py\", line 488, in export_single_notebook\n",
            "    output, resources = self.exporter.from_filename(\n",
            "  File \"/usr/local/lib/python3.10/dist-packages/nbconvert/exporters/exporter.py\", line 189, in from_filename\n",
            "    return self.from_file(f, resources=resources, **kw)\n",
            "  File \"/usr/local/lib/python3.10/dist-packages/nbconvert/exporters/exporter.py\", line 206, in from_file\n",
            "    return self.from_notebook_node(\n",
            "  File \"/usr/local/lib/python3.10/dist-packages/nbconvert/exporters/html.py\", line 223, in from_notebook_node\n",
            "    return super().from_notebook_node(nb, resources, **kw)\n",
            "  File \"/usr/local/lib/python3.10/dist-packages/nbconvert/exporters/templateexporter.py\", line 397, in from_notebook_node\n",
            "    nb_copy, resources = super().from_notebook_node(nb, resources, **kw)\n",
            "  File \"/usr/local/lib/python3.10/dist-packages/nbconvert/exporters/exporter.py\", line 146, in from_notebook_node\n",
            "    nb_copy, resources = self._preprocess(nb_copy, resources)\n",
            "  File \"/usr/local/lib/python3.10/dist-packages/nbconvert/exporters/exporter.py\", line 335, in _preprocess\n",
            "    nbc, resc = preprocessor(nbc, resc)\n",
            "  File \"/usr/local/lib/python3.10/dist-packages/nbconvert/preprocessors/base.py\", line 47, in __call__\n",
            "    return self.preprocess(nb, resources)\n",
            "  File \"/usr/local/lib/python3.10/dist-packages/nbconvert/preprocessors/execute.py\", line 89, in preprocess\n",
            "    self.preprocess_cell(cell, resources, index)\n",
            "  File \"/usr/local/lib/python3.10/dist-packages/nbconvert/preprocessors/execute.py\", line 110, in preprocess_cell\n",
            "    cell = self.execute_cell(cell, index, store_history=True)\n",
            "  File \"/usr/local/lib/python3.10/dist-packages/jupyter_core/utils/__init__.py\", line 166, in wrapped\n",
            "    return loop.run_until_complete(inner)\n",
            "  File \"/usr/lib/python3.10/asyncio/base_events.py\", line 636, in run_until_complete\n",
            "    self.run_forever()\n",
            "KeyboardInterrupt\n",
            "Task exception was never retrieved\n",
            "future: <Task finished name='Task-12' coro=<NotebookClient.async_execute_cell() done, defined at /usr/local/lib/python3.10/dist-packages/nbclient/client.py:916> exception=CellExecutionError('An error occurred while executing the following cell:\\n------------------\\n# uncomment and run the following lines for Google Colab\\nfrom google.colab import drive\\ndrive.mount(\\'/content/drive\\')\\n------------------\\n\\n\\n\\x1b[0;31m\\x1b[0m\\n\\x1b[0;31mKeyboardInterrupt\\x1b[0mTraceback (most recent call last)\\n\\x1b[0;32m<ipython-input-2-fdad5e2c7b1d>\\x1b[0m in \\x1b[0;36m<cell line: 3>\\x1b[0;34m()\\x1b[0m\\n\\x1b[1;32m      1\\x1b[0m \\x1b[0;31m# uncomment and run the following lines for Google Colab\\x1b[0m\\x1b[0;34m\\x1b[0m\\x1b[0;34m\\x1b[0m\\x1b[0m\\n\\x1b[1;32m      2\\x1b[0m \\x1b[0;32mfrom\\x1b[0m \\x1b[0mgoogle\\x1b[0m\\x1b[0;34m.\\x1b[0m\\x1b[0mcolab\\x1b[0m \\x1b[0;32mimport\\x1b[0m \\x1b[0mdrive\\x1b[0m\\x1b[0;34m\\x1b[0m\\x1b[0;34m\\x1b[0m\\x1b[0m\\n\\x1b[0;32m----> 3\\x1b[0;31m \\x1b[0mdrive\\x1b[0m\\x1b[0;34m.\\x1b[0m\\x1b[0mmount\\x1b[0m\\x1b[0;34m(\\x1b[0m\\x1b[0;34m\\'/content/drive\\'\\x1b[0m\\x1b[0;34m)\\x1b[0m\\x1b[0;34m\\x1b[0m\\x1b[0;34m\\x1b[0m\\x1b[0m\\n\\x1b[0m\\n\\x1b[0;32m/usr/local/lib/python3.10/dist-packages/google/colab/drive.py\\x1b[0m in \\x1b[0;36mmount\\x1b[0;34m(mountpoint, force_remount, timeout_ms, readonly)\\x1b[0m\\n\\x1b[1;32m    101\\x1b[0m \\x1b[0;32mdef\\x1b[0m \\x1b[0mmount\\x1b[0m\\x1b[0;34m(\\x1b[0m\\x1b[0mmountpoint\\x1b[0m\\x1b[0;34m,\\x1b[0m \\x1b[0mforce_remount\\x1b[0m\\x1b[0;34m=\\x1b[0m\\x1b[0;32mFalse\\x1b[0m\\x1b[0;34m,\\x1b[0m \\x1b[0mtimeout_ms\\x1b[0m\\x1b[0;34m=\\x1b[0m\\x1b[0;36m120000\\x1b[0m\\x1b[0;34m,\\x1b[0m \\x1b[0mreadonly\\x1b[0m\\x1b[0;34m=\\x1b[0m\\x1b[0;32mFalse\\x1b[0m\\x1b[0;34m)\\x1b[0m\\x1b[0;34m:\\x1b[0m\\x1b[0;34m\\x1b[0m\\x1b[0;34m\\x1b[0m\\x1b[0m\\n\\x1b[1;32m    102\\x1b[0m   \\x1b[0;34m\"\"\"Mount your Google Drive at the specified mountpoint path.\"\"\"\\x1b[0m\\x1b[0;34m\\x1b[0m\\x1b[0;34m\\x1b[0m\\x1b[0m\\n\\x1b[0;32m--> 103\\x1b[0;31m   return _mount(\\n\\x1b[0m\\x1b[1;32m    104\\x1b[0m       \\x1b[0mmountpoint\\x1b[0m\\x1b[0;34m,\\x1b[0m\\x1b[0;34m\\x1b[0m\\x1b[0;34m\\x1b[0m\\x1b[0m\\n\\x1b[1;32m    105\\x1b[0m       \\x1b[0mforce_remount\\x1b[0m\\x1b[0;34m=\\x1b[0m\\x1b[0mforce_remount\\x1b[0m\\x1b[0;34m,\\x1b[0m\\x1b[0;34m\\x1b[0m\\x1b[0;34m\\x1b[0m\\x1b[0m\\n\\n\\x1b[0;32m/usr/local/lib/python3.10/dist-packages/google/colab/drive.py\\x1b[0m in \\x1b[0;36m_mount\\x1b[0;34m(mountpoint, force_remount, timeout_ms, ephemeral, readonly)\\x1b[0m\\n\\x1b[1;32m    130\\x1b[0m   )\\n\\x1b[1;32m    131\\x1b[0m   \\x1b[0;32mif\\x1b[0m \\x1b[0mephemeral\\x1b[0m\\x1b[0;34m:\\x1b[0m\\x1b[0;34m\\x1b[0m\\x1b[0;34m\\x1b[0m\\x1b[0m\\n\\x1b[0;32m--> 132\\x1b[0;31m     _message.blocking_request(\\n\\x1b[0m\\x1b[1;32m    133\\x1b[0m         \\x1b[0;34m\\'request_auth\\'\\x1b[0m\\x1b[0;34m,\\x1b[0m \\x1b[0mrequest\\x1b[0m\\x1b[0;34m=\\x1b[0m\\x1b[0;34m{\\x1b[0m\\x1b[0;34m\\'authType\\'\\x1b[0m\\x1b[0;34m:\\x1b[0m \\x1b[0;34m\\'dfs_ephemeral\\'\\x1b[0m\\x1b[0;34m}\\x1b[0m\\x1b[0;34m,\\x1b[0m \\x1b[0mtimeout_sec\\x1b[0m\\x1b[0;34m=\\x1b[0m\\x1b[0;32mNone\\x1b[0m\\x1b[0;34m\\x1b[0m\\x1b[0;34m\\x1b[0m\\x1b[0m\\n\\x1b[1;32m    134\\x1b[0m     )\\n\\n\\x1b[0;32m/usr/local/lib/python3.10/dist-packages/google/colab/_message.py\\x1b[0m in \\x1b[0;36mblocking_request\\x1b[0;34m(request_type, request, timeout_sec, parent)\\x1b[0m\\n\\x1b[1;32m    174\\x1b[0m       \\x1b[0mrequest_type\\x1b[0m\\x1b[0;34m,\\x1b[0m \\x1b[0mrequest\\x1b[0m\\x1b[0;34m,\\x1b[0m \\x1b[0mparent\\x1b[0m\\x1b[0;34m=\\x1b[0m\\x1b[0mparent\\x1b[0m\\x1b[0;34m,\\x1b[0m \\x1b[0mexpect_reply\\x1b[0m\\x1b[0;34m=\\x1b[0m\\x1b[0;32mTrue\\x1b[0m\\x1b[0;34m\\x1b[0m\\x1b[0;34m\\x1b[0m\\x1b[0m\\n\\x1b[1;32m    175\\x1b[0m   )\\n\\x1b[0;32m--> 176\\x1b[0;31m   \\x1b[0;32mreturn\\x1b[0m \\x1b[0mread_reply_from_input\\x1b[0m\\x1b[0;34m(\\x1b[0m\\x1b[0mrequest_id\\x1b[0m\\x1b[0;34m,\\x1b[0m \\x1b[0mtimeout_sec\\x1b[0m\\x1b[0;34m)\\x1b[0m\\x1b[0;34m\\x1b[0m\\x1b[0;34m\\x1b[0m\\x1b[0m\\n\\x1b[0m\\n\\x1b[0;32m/usr/local/lib/python3.10/dist-packages/google/colab/_message.py\\x1b[0m in \\x1b[0;36mread_reply_from_input\\x1b[0;34m(message_id, timeout_sec)\\x1b[0m\\n\\x1b[1;32m     94\\x1b[0m     \\x1b[0mreply\\x1b[0m \\x1b[0;34m=\\x1b[0m \\x1b[0m_read_next_input_message\\x1b[0m\\x1b[0;34m(\\x1b[0m\\x1b[0;34m)\\x1b[0m\\x1b[0;34m\\x1b[0m\\x1b[0;34m\\x1b[0m\\x1b[0m\\n\\x1b[1;32m     95\\x1b[0m     \\x1b[0;32mif\\x1b[0m \\x1b[0mreply\\x1b[0m \\x1b[0;34m==\\x1b[0m \\x1b[0m_NOT_READY\\x1b[0m \\x1b[0;32mor\\x1b[0m \\x1b[0;32mnot\\x1b[0m \\x1b[0misinstance\\x1b[0m\\x1b[0;34m(\\x1b[0m\\x1b[0mreply\\x1b[0m\\x1b[0;34m,\\x1b[0m \\x1b[0mdict\\x1b[0m\\x1b[0;34m)\\x1b[0m\\x1b[0;34m:\\x1b[0m\\x1b[0;34m\\x1b[0m\\x1b[0;34m\\x1b[0m\\x1b[0m\\n\\x1b[0;32m---> 96\\x1b[0;31m       \\x1b[0mtime\\x1b[0m\\x1b[0;34m.\\x1b[0m\\x1b[0msleep\\x1b[0m\\x1b[0;34m(\\x1b[0m\\x1b[0;36m0.025\\x1b[0m\\x1b[0;34m)\\x1b[0m\\x1b[0;34m\\x1b[0m\\x1b[0;34m\\x1b[0m\\x1b[0m\\n\\x1b[0m\\x1b[1;32m     97\\x1b[0m       \\x1b[0;32mcontinue\\x1b[0m\\x1b[0;34m\\x1b[0m\\x1b[0;34m\\x1b[0m\\x1b[0m\\n\\x1b[1;32m     98\\x1b[0m     if (\\n\\n\\x1b[0;31mKeyboardInterrupt\\x1b[0m: \\n')>\n",
            "Traceback (most recent call last):\n",
            "  File \"/usr/lib/python3.10/asyncio/base_events.py\", line 636, in run_until_complete\n",
            "    self.run_forever()\n",
            "  File \"/usr/lib/python3.10/asyncio/base_events.py\", line 603, in run_forever\n",
            "    self._run_once()\n",
            "  File \"/usr/lib/python3.10/asyncio/base_events.py\", line 1871, in _run_once\n",
            "    event_list = self._selector.select(timeout)\n",
            "  File \"/usr/lib/python3.10/selectors.py\", line 469, in select\n",
            "    fd_event_list = self._selector.poll(timeout, max_ev)\n",
            "KeyboardInterrupt\n",
            "\n",
            "During handling of the above exception, another exception occurred:\n",
            "\n",
            "Traceback (most recent call last):\n",
            "  File \"/usr/local/bin/jupyter-nbconvert\", line 8, in <module>\n",
            "    sys.exit(main())\n",
            "  File \"/usr/local/lib/python3.10/dist-packages/jupyter_core/application.py\", line 285, in launch_instance\n",
            "    return super().launch_instance(argv=argv, **kwargs)\n",
            "  File \"/usr/local/lib/python3.10/dist-packages/traitlets/config/application.py\", line 992, in launch_instance\n",
            "    app.start()\n",
            "  File \"/usr/local/lib/python3.10/dist-packages/nbconvert/nbconvertapp.py\", line 423, in start\n",
            "    self.convert_notebooks()\n",
            "  File \"/usr/local/lib/python3.10/dist-packages/nbconvert/nbconvertapp.py\", line 597, in convert_notebooks\n",
            "    self.convert_single_notebook(notebook_filename)\n",
            "  File \"/usr/local/lib/python3.10/dist-packages/nbconvert/nbconvertapp.py\", line 560, in convert_single_notebook\n",
            "    output, resources = self.export_single_notebook(\n",
            "  File \"/usr/local/lib/python3.10/dist-packages/nbconvert/nbconvertapp.py\", line 488, in export_single_notebook\n",
            "    output, resources = self.exporter.from_filename(\n",
            "  File \"/usr/local/lib/python3.10/dist-packages/nbconvert/exporters/exporter.py\", line 189, in from_filename\n",
            "    return self.from_file(f, resources=resources, **kw)\n",
            "  File \"/usr/local/lib/python3.10/dist-packages/nbconvert/exporters/exporter.py\", line 206, in from_file\n",
            "    return self.from_notebook_node(\n",
            "  File \"/usr/local/lib/python3.10/dist-packages/nbconvert/exporters/html.py\", line 223, in from_notebook_node\n",
            "    return super().from_notebook_node(nb, resources, **kw)\n",
            "  File \"/usr/local/lib/python3.10/dist-packages/nbconvert/exporters/templateexporter.py\", line 397, in from_notebook_node\n",
            "    nb_copy, resources = super().from_notebook_node(nb, resources, **kw)\n",
            "  File \"/usr/local/lib/python3.10/dist-packages/nbconvert/exporters/exporter.py\", line 146, in from_notebook_node\n",
            "    nb_copy, resources = self._preprocess(nb_copy, resources)\n",
            "  File \"/usr/local/lib/python3.10/dist-packages/nbconvert/exporters/exporter.py\", line 335, in _preprocess\n",
            "    nbc, resc = preprocessor(nbc, resc)\n",
            "  File \"/usr/local/lib/python3.10/dist-packages/nbconvert/preprocessors/base.py\", line 47, in __call__\n",
            "    return self.preprocess(nb, resources)\n",
            "  File \"/usr/local/lib/python3.10/dist-packages/nbconvert/preprocessors/execute.py\", line 89, in preprocess\n",
            "    self.preprocess_cell(cell, resources, index)\n",
            "  File \"/usr/local/lib/python3.10/dist-packages/nbconvert/preprocessors/execute.py\", line 110, in preprocess_cell\n",
            "    cell = self.execute_cell(cell, index, store_history=True)\n",
            "  File \"/usr/local/lib/python3.10/dist-packages/jupyter_core/utils/__init__.py\", line 166, in wrapped\n",
            "    return loop.run_until_complete(inner)\n",
            "  File \"/usr/lib/python3.10/asyncio/base_events.py\", line 636, in run_until_complete\n",
            "    self.run_forever()\n",
            "KeyboardInterrupt\n",
            "\n",
            "During handling of the above exception, another exception occurred:\n",
            "\n",
            "Traceback (most recent call last):\n",
            "  File \"/usr/local/lib/python3.10/dist-packages/nbclient/client.py\", line 1058, in async_execute_cell\n",
            "    await self._check_raise_for_error(cell, cell_index, exec_reply)\n",
            "  File \"/usr/local/lib/python3.10/dist-packages/nbclient/client.py\", line 914, in _check_raise_for_error\n",
            "    raise CellExecutionError.from_cell_and_msg(cell, exec_reply_content)\n",
            "nbclient.exceptions.CellExecutionError: An error occurred while executing the following cell:\n",
            "------------------\n",
            "# uncomment and run the following lines for Google Colab\n",
            "from google.colab import drive\n",
            "drive.mount('/content/drive')\n",
            "------------------\n",
            "\n",
            "\n",
            "\u001b[0;31m\u001b[0m\n",
            "\u001b[0;31mKeyboardInterrupt\u001b[0mTraceback (most recent call last)\n",
            "\u001b[0;32m<ipython-input-2-fdad5e2c7b1d>\u001b[0m in \u001b[0;36m<cell line: 3>\u001b[0;34m()\u001b[0m\n",
            "\u001b[1;32m      1\u001b[0m \u001b[0;31m# uncomment and run the following lines for Google Colab\u001b[0m\u001b[0;34m\u001b[0m\u001b[0;34m\u001b[0m\u001b[0m\n",
            "\u001b[1;32m      2\u001b[0m \u001b[0;32mfrom\u001b[0m \u001b[0mgoogle\u001b[0m\u001b[0;34m.\u001b[0m\u001b[0mcolab\u001b[0m \u001b[0;32mimport\u001b[0m \u001b[0mdrive\u001b[0m\u001b[0;34m\u001b[0m\u001b[0;34m\u001b[0m\u001b[0m\n",
            "\u001b[0;32m----> 3\u001b[0;31m \u001b[0mdrive\u001b[0m\u001b[0;34m.\u001b[0m\u001b[0mmount\u001b[0m\u001b[0;34m(\u001b[0m\u001b[0;34m'/content/drive'\u001b[0m\u001b[0;34m)\u001b[0m\u001b[0;34m\u001b[0m\u001b[0;34m\u001b[0m\u001b[0m\n",
            "\u001b[0m\n",
            "\u001b[0;32m/usr/local/lib/python3.10/dist-packages/google/colab/drive.py\u001b[0m in \u001b[0;36mmount\u001b[0;34m(mountpoint, force_remount, timeout_ms, readonly)\u001b[0m\n",
            "\u001b[1;32m    101\u001b[0m \u001b[0;32mdef\u001b[0m \u001b[0mmount\u001b[0m\u001b[0;34m(\u001b[0m\u001b[0mmountpoint\u001b[0m\u001b[0;34m,\u001b[0m \u001b[0mforce_remount\u001b[0m\u001b[0;34m=\u001b[0m\u001b[0;32mFalse\u001b[0m\u001b[0;34m,\u001b[0m \u001b[0mtimeout_ms\u001b[0m\u001b[0;34m=\u001b[0m\u001b[0;36m120000\u001b[0m\u001b[0;34m,\u001b[0m \u001b[0mreadonly\u001b[0m\u001b[0;34m=\u001b[0m\u001b[0;32mFalse\u001b[0m\u001b[0;34m)\u001b[0m\u001b[0;34m:\u001b[0m\u001b[0;34m\u001b[0m\u001b[0;34m\u001b[0m\u001b[0m\n",
            "\u001b[1;32m    102\u001b[0m   \u001b[0;34m\"\"\"Mount your Google Drive at the specified mountpoint path.\"\"\"\u001b[0m\u001b[0;34m\u001b[0m\u001b[0;34m\u001b[0m\u001b[0m\n",
            "\u001b[0;32m--> 103\u001b[0;31m   return _mount(\n",
            "\u001b[0m\u001b[1;32m    104\u001b[0m       \u001b[0mmountpoint\u001b[0m\u001b[0;34m,\u001b[0m\u001b[0;34m\u001b[0m\u001b[0;34m\u001b[0m\u001b[0m\n",
            "\u001b[1;32m    105\u001b[0m       \u001b[0mforce_remount\u001b[0m\u001b[0;34m=\u001b[0m\u001b[0mforce_remount\u001b[0m\u001b[0;34m,\u001b[0m\u001b[0;34m\u001b[0m\u001b[0;34m\u001b[0m\u001b[0m\n",
            "\n",
            "\u001b[0;32m/usr/local/lib/python3.10/dist-packages/google/colab/drive.py\u001b[0m in \u001b[0;36m_mount\u001b[0;34m(mountpoint, force_remount, timeout_ms, ephemeral, readonly)\u001b[0m\n",
            "\u001b[1;32m    130\u001b[0m   )\n",
            "\u001b[1;32m    131\u001b[0m   \u001b[0;32mif\u001b[0m \u001b[0mephemeral\u001b[0m\u001b[0;34m:\u001b[0m\u001b[0;34m\u001b[0m\u001b[0;34m\u001b[0m\u001b[0m\n",
            "\u001b[0;32m--> 132\u001b[0;31m     _message.blocking_request(\n",
            "\u001b[0m\u001b[1;32m    133\u001b[0m         \u001b[0;34m'request_auth'\u001b[0m\u001b[0;34m,\u001b[0m \u001b[0mrequest\u001b[0m\u001b[0;34m=\u001b[0m\u001b[0;34m{\u001b[0m\u001b[0;34m'authType'\u001b[0m\u001b[0;34m:\u001b[0m \u001b[0;34m'dfs_ephemeral'\u001b[0m\u001b[0;34m}\u001b[0m\u001b[0;34m,\u001b[0m \u001b[0mtimeout_sec\u001b[0m\u001b[0;34m=\u001b[0m\u001b[0;32mNone\u001b[0m\u001b[0;34m\u001b[0m\u001b[0;34m\u001b[0m\u001b[0m\n",
            "\u001b[1;32m    134\u001b[0m     )\n",
            "\n",
            "\u001b[0;32m/usr/local/lib/python3.10/dist-packages/google/colab/_message.py\u001b[0m in \u001b[0;36mblocking_request\u001b[0;34m(request_type, request, timeout_sec, parent)\u001b[0m\n",
            "\u001b[1;32m    174\u001b[0m       \u001b[0mrequest_type\u001b[0m\u001b[0;34m,\u001b[0m \u001b[0mrequest\u001b[0m\u001b[0;34m,\u001b[0m \u001b[0mparent\u001b[0m\u001b[0;34m=\u001b[0m\u001b[0mparent\u001b[0m\u001b[0;34m,\u001b[0m \u001b[0mexpect_reply\u001b[0m\u001b[0;34m=\u001b[0m\u001b[0;32mTrue\u001b[0m\u001b[0;34m\u001b[0m\u001b[0;34m\u001b[0m\u001b[0m\n",
            "\u001b[1;32m    175\u001b[0m   )\n",
            "\u001b[0;32m--> 176\u001b[0;31m   \u001b[0;32mreturn\u001b[0m \u001b[0mread_reply_from_input\u001b[0m\u001b[0;34m(\u001b[0m\u001b[0mrequest_id\u001b[0m\u001b[0;34m,\u001b[0m \u001b[0mtimeout_sec\u001b[0m\u001b[0;34m)\u001b[0m\u001b[0;34m\u001b[0m\u001b[0;34m\u001b[0m\u001b[0m\n",
            "\u001b[0m\n",
            "\u001b[0;32m/usr/local/lib/python3.10/dist-packages/google/colab/_message.py\u001b[0m in \u001b[0;36mread_reply_from_input\u001b[0;34m(message_id, timeout_sec)\u001b[0m\n",
            "\u001b[1;32m     94\u001b[0m     \u001b[0mreply\u001b[0m \u001b[0;34m=\u001b[0m \u001b[0m_read_next_input_message\u001b[0m\u001b[0;34m(\u001b[0m\u001b[0;34m)\u001b[0m\u001b[0;34m\u001b[0m\u001b[0;34m\u001b[0m\u001b[0m\n",
            "\u001b[1;32m     95\u001b[0m     \u001b[0;32mif\u001b[0m \u001b[0mreply\u001b[0m \u001b[0;34m==\u001b[0m \u001b[0m_NOT_READY\u001b[0m \u001b[0;32mor\u001b[0m \u001b[0;32mnot\u001b[0m \u001b[0misinstance\u001b[0m\u001b[0;34m(\u001b[0m\u001b[0mreply\u001b[0m\u001b[0;34m,\u001b[0m \u001b[0mdict\u001b[0m\u001b[0;34m)\u001b[0m\u001b[0;34m:\u001b[0m\u001b[0;34m\u001b[0m\u001b[0;34m\u001b[0m\u001b[0m\n",
            "\u001b[0;32m---> 96\u001b[0;31m       \u001b[0mtime\u001b[0m\u001b[0;34m.\u001b[0m\u001b[0msleep\u001b[0m\u001b[0;34m(\u001b[0m\u001b[0;36m0.025\u001b[0m\u001b[0;34m)\u001b[0m\u001b[0;34m\u001b[0m\u001b[0;34m\u001b[0m\u001b[0m\n",
            "\u001b[0m\u001b[1;32m     97\u001b[0m       \u001b[0;32mcontinue\u001b[0m\u001b[0;34m\u001b[0m\u001b[0;34m\u001b[0m\u001b[0m\n",
            "\u001b[1;32m     98\u001b[0m     if (\n",
            "\n",
            "\u001b[0;31mKeyboardInterrupt\u001b[0m: \n",
            "\n",
            "^C\n"
          ]
        }
      ]
    },
    {
      "cell_type": "markdown",
      "metadata": {
        "id": "tSoucKKbg9Hc"
      },
      "source": [
        "---"
      ]
    }
  ],
  "metadata": {
    "colab": {
      "provenance": []
    },
    "kernelspec": {
      "display_name": "Python 3 (ipykernel)",
      "language": "python",
      "name": "python3"
    },
    "language_info": {
      "codemirror_mode": {
        "name": "ipython",
        "version": 3
      },
      "file_extension": ".py",
      "mimetype": "text/x-python",
      "name": "python",
      "nbconvert_exporter": "python",
      "pygments_lexer": "ipython3",
      "version": "3.9.7"
    }
  },
  "nbformat": 4,
  "nbformat_minor": 0
}